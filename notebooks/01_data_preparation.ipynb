{
 "cells": [
  {
   "cell_type": "markdown",
   "id": "3bcc65a7-d47a-4ed7-832b-295526b786ed",
   "metadata": {},
   "source": [
    "# Imports and utils"
   ]
  },
  {
   "cell_type": "code",
   "execution_count": 78,
   "id": "6e05cb25-405b-4f5f-9362-26c7bc365d5a",
   "metadata": {
    "tags": []
   },
   "outputs": [],
   "source": [
    "import pandas as pd\n",
    "import sys\n",
    "from dateutil import parser\n",
    "from io import StringIO\n",
    "\n",
    "sys.path.append('../src')\n",
    "from utils import display_info, display_summary_stats, display_unique_values, display_value_counts, plot_histogram, plot_boxplot\n"
   ]
  },
  {
   "cell_type": "markdown",
   "id": "27c14ac7-8d99-48a3-beeb-eb61feeaea5e",
   "metadata": {},
   "source": [
    "# Explore example for df_sales"
   ]
  },
  {
   "cell_type": "code",
   "execution_count": 79,
   "id": "2ae8e060-ac84-4f20-9a81-03b4df160c1e",
   "metadata": {
    "collapsed": true,
    "jupyter": {
     "outputs_hidden": true
    },
    "tags": []
   },
   "outputs": [
    {
     "name": "stdout",
     "output_type": "stream",
     "text": [
      "DataFrame Info:\n",
      "------------------------------\n",
      "<class 'pandas.core.frame.DataFrame'>\n",
      "RangeIndex: 6 entries, 0 to 5\n",
      "Data columns (total 1 columns):\n",
      " #   Column  Non-Null Count  Dtype \n",
      "---  ------  --------------  ----- \n",
      " 0   value   3 non-null      object\n",
      "dtypes: object(1)\n",
      "memory usage: 180.0+ bytes\n",
      "None\n",
      "\n",
      "\n",
      "DataFrame Shape:\n",
      "------------------------------\n",
      "(6, 1)\n",
      "\n",
      "\n",
      "Missing Values:\n",
      "------------------------------\n",
      "value    3\n",
      "dtype: int64\n",
      "\n",
      "\n",
      "Summary Statistics:\n",
      "------------------------------\n",
      "        value\n",
      "count    3.00\n",
      "unique   3.00\n",
      "top     93.14\n",
      "freq     1.00\n",
      "\n",
      "\n",
      "Unique values in value: [93.14 <NA> 94.23 95.12]\n",
      "\n",
      "\n",
      "Value counts for value:\n",
      "value\n",
      "93.14    1\n",
      "94.23    1\n",
      "95.12    1\n",
      "Name: count, dtype: int64\n",
      "\n",
      "\n"
     ]
    }
   ],
   "source": [
    "data = {'value': [93.14, pd.NA, pd.NA, 94.23, 95.12, pd.NA]}\n",
    "df = pd.DataFrame(data)\n",
    "display_info(df)\n",
    "display_summary_stats(df)\n",
    "display_unique_values(df, columns=['value'])\n",
    "display_value_counts(df, columns=['value'])"
   ]
  },
  {
   "cell_type": "markdown",
   "id": "1bf39a7c-355f-48d4-b6d2-7ed5d84a9480",
   "metadata": {},
   "source": [
    "# Clean holidays"
   ]
  },
  {
   "cell_type": "code",
   "execution_count": 134,
   "id": "2fa7f140-5ae6-4766-ba07-831a41fae430",
   "metadata": {
    "tags": []
   },
   "outputs": [],
   "source": [
    "df_holidays = pd.read_csv('../data/raw/holidays_events(india).csv', delimiter=';')\n",
    "\n",
    "df_holidays.dropna(inplace=True)\n",
    "df_holidays.drop(columns=['type'], inplace=True)\n",
    "\n",
    "month_mapping = {\n",
    "    'jan': 'Jan',\n",
    "    'feb': 'Feb',\n",
    "    'mrt': 'Mar',\n",
    "    'apr': 'Apr',\n",
    "    'mei': 'May',\n",
    "    'jun': 'Jun',\n",
    "    'jul': 'Jul',\n",
    "    'aug': 'Aug',\n",
    "    'sep': 'Sep',\n",
    "    'okt': 'Oct',\n",
    "    'nov': 'Nov',\n",
    "    'dec': 'Dec'\n",
    "}\n",
    "\n",
    "df_holidays['date'] = df_holidays['date'].str.replace('/', ' ')\n",
    "for month_nl, month_en in month_mapping.items():\n",
    "    df_holidays['date'] = df_holidays['date'].str.replace(month_nl, month_en, regex=True)\n",
    "\n",
    "start_year = 2011\n",
    "\n",
    "# Define a function to add the year and format the date\n",
    "for index, row in df_holidays.iterrows():\n",
    "    \n",
    "    if row['date'] == '1 Jan':\n",
    "        if not ((row['description'] == \"New Year's Day\") & (start_year == 2017)):\n",
    "            start_year += 1\n",
    "    \n",
    "    # Extract day and month from the date\n",
    "    day_month = row['date'].split(' ')\n",
    "    month = day_month[1].lower()\n",
    "    day = day_month[0]\n",
    "\n",
    "    # Update the date with the year and reformat\n",
    "    df_holidays.at[index, 'date'] = pd.to_datetime(f\"{start_year}-{month}-{day}\", format='%Y-%b-%d')\n",
    "\n",
    "\n",
    "df_holidays = df_holidays.drop(df_holidays[(df_holidays['description'] == 'Holi') & (df_holidays['transferred'] == 'Gazetted Holiday')].index)\n",
    "df_holidays.to_csv('../data/processed/holidays_india_clean.csv', index=False)"
   ]
  },
  {
   "cell_type": "markdown",
   "id": "79b33632-c983-4c11-805e-6eccbaffd7fa",
   "metadata": {},
   "source": [
    "# Clean Oil\n",
    "\n",
    "## Split in two files\n",
    "- monthly (date_year_month, unit, total_price, change, price_monthly\n",
    "- daily (date, price_daily)"
   ]
  },
  {
   "cell_type": "code",
   "execution_count": 145,
   "id": "0cfb5642-3ecc-4381-b08e-fc3fbdc12ccb",
   "metadata": {
    "tags": []
   },
   "outputs": [],
   "source": [
    "OIL_MONTHLY_CNAME_0 = \"date_year_month\"\n",
    "OIL_MONTHLY_CNAME_1 = \"unit\"\n",
    "OIL_MONTHLY_CNAME_2 = \"total_price\"\n",
    "OIL_MONTHLY_CNAME_3 = \"change\"\n",
    "\n",
    "OIL_DAILY_CNAME_0 = \"date\"\n",
    "OIL_DAILY_CNAME_1 = \"price_daily\"\n",
    "\n",
    "# Read the oil(india) file\n",
    "with open('../data/raw/oil(india).csv', 'r') as file:\n",
    "    data = file.readlines()\n",
    "    data_monthly = [f\"{OIL_MONTHLY_CNAME_0};{OIL_MONTHLY_CNAME_1};{OIL_MONTHLY_CNAME_2};{OIL_MONTHLY_CNAME_3}\\n\"]\n",
    "    data_daily = [f\"{OIL_DAILY_CNAME_0};{OIL_DAILY_CNAME_1}\\n\"]\n",
    "\n",
    "    for idx, row in enumerate(data):\n",
    "        modified_row = row.replace(',', ';')\n",
    "\n",
    "        if (1 <= idx & idx <= 60):\n",
    "            data_monthly.append(modified_row)\n",
    "        if (idx > 60):\n",
    "            # remove last 2 semicolons\n",
    "            modified_row = \";\".join(modified_row.split(\";\")[:-2])\n",
    "            data_daily.append(modified_row + \"\\n\")\n",
    "\n",
    "df_oil_monthly = pd.read_csv(StringIO(''.join(data_monthly)), sep=';')\n",
    "df_oil_daily = pd.read_csv(StringIO(''.join(data_daily)), sep=';')"
   ]
  },
  {
   "cell_type": "markdown",
   "id": "2635d677-5e06-4591-a273-edcad17887a6",
   "metadata": {},
   "source": [
    "## Clean monthly prices\n",
    "\n",
    "- Date formats uniform to Y-m\n",
    "- Added price_monthly (total price / units)"
   ]
  },
  {
   "cell_type": "code",
   "execution_count": 146,
   "id": "0089a586-5917-4a02-b786-d2b89ee4b8c7",
   "metadata": {
    "tags": []
   },
   "outputs": [],
   "source": [
    "# apr/13 --> apr 2013\n",
    "df_oil_monthly[OIL_MONTHLY_CNAME_0] = df_oil_monthly[OIL_MONTHLY_CNAME_0].str.replace('/', ' 20')\n",
    "\n",
    "# apr 2013 --> 2013-04\n",
    "df_oil_monthly.iloc[:, 0] = df_oil_monthly.iloc[:, 0].apply(lambda x: parser.parse(x).strftime('%Y-%m') if isinstance(x, str) else x)\n",
    "\n",
    "# add column price per unit\n",
    "df_oil_monthly['price_monthly'] = round(df_oil_monthly[OIL_MONTHLY_CNAME_2] / df_oil_monthly[OIL_MONTHLY_CNAME_1], 2)\n",
    "\n",
    "\n",
    "df_oil_monthly.to_csv('../data/processed/oil_india_monthly_clean.csv', index=False)"
   ]
  },
  {
   "cell_type": "markdown",
   "id": "8ecd6bb3-2221-492b-844c-5424f325649f",
   "metadata": {
    "tags": []
   },
   "source": [
    "## Clean daily prices\n",
    "\n",
    "2 options\n",
    "- Clean given file (2013/03/16 - 2017/8/31)\n",
    "- Use external file (2013/01/01 - 2018/12/31)\n",
    "\n",
    "NaN prices where interpolated. First value was forward filled."
   ]
  },
  {
   "cell_type": "code",
   "execution_count": 147,
   "id": "5bc6f382-857e-4269-82ee-9edc21e3bb71",
   "metadata": {
    "tags": []
   },
   "outputs": [],
   "source": [
    "df_oil_daily.interpolate(inplace=True)\n",
    "df_oil_daily.loc[0, 'price_daily'] = df_oil_daily.loc[1, 'price_daily']  # Missed by interpolate\n",
    "df_oil_daily.to_csv('../data/processed/oil_india_daily_clean.csv', index=False)"
   ]
  },
  {
   "cell_type": "code",
   "execution_count": 171,
   "id": "4d801598-037a-4c89-887f-6c5b3d4286d8",
   "metadata": {
    "tags": []
   },
   "outputs": [],
   "source": [
    "df_oil_daily = pd.read_csv('../data/external/oil-alfredgraph.csv', usecols=['date', 'dcoilwtico'])\n",
    "\n",
    "df_oil_daily['date'] = pd.to_datetime(df_oil_daily['date'])\n",
    "df_oil_daily.set_index('date', inplace=True)\n",
    "idx = pd.date_range(df_oil_daily.index.min(), df_oil_daily.index.max())\n",
    "df_oil_daily = df_oil_daily.reindex(idx)\n",
    "df_oil_daily.replace('.', pd.NA, inplace=True)\n",
    "df_oil_daily['dcoilwtico'] = pd.to_numeric(df_oil_daily['dcoilwtico'], errors='coerce')\n",
    "df_oil_daily.interpolate(inplace=True)\n",
    "df_oil_daily.reset_index(inplace=True)\n",
    "df_oil_daily.columns = ['date', 'price_daily']\n",
    "df_oil_daily['price_daily'] = df_oil_daily['price_daily'].round(2)\n",
    "df_oil_daily.loc[0, 'price_daily'] = df_oil_daily.loc[1, 'price_daily']\n",
    "df_oil_daily.to_csv('../data/processed/oil_india_daily_clean.csv', index=False)"
   ]
  },
  {
   "cell_type": "markdown",
   "id": "66f6b554-40f7-4a21-afea-361781f60dd5",
   "metadata": {},
   "source": [
    "# Clean Sales & Items"
   ]
  },
  {
   "cell_type": "code",
   "execution_count": 139,
   "id": "37185e49-2b77-404e-8147-faf3b689f6c4",
   "metadata": {
    "tags": []
   },
   "outputs": [],
   "source": [
    "df_sales = pd.read_csv('../data/raw/data.csv', low_memory=False, usecols=['date', 'store_nbr', 'item_nbr', 'unit_sales', 'onpromotion'])\n",
    "df_sales['onpromotion'].fillna(False, inplace=True)\n",
    "df_sales.to_csv('../data/processed/sales_clean.csv', index=False)\n",
    "\n",
    "df_items = pd.read_csv('../data/raw/items.csv', delimiter=';', low_memory=False)\n",
    "df_items.rename(columns={'Price': 'item_price'}, inplace=True)\n",
    "df_items.dropna(inplace=True)\n",
    "df_items.to_csv('../data/processed/items_clean.csv', index=False)"
   ]
  },
  {
   "cell_type": "markdown",
   "id": "9d508191-807c-4477-a324-620068f1b1bf",
   "metadata": {},
   "source": [
    "# Clean Stores & Transactions"
   ]
  },
  {
   "cell_type": "code",
   "execution_count": 140,
   "id": "195c46c0-606d-4474-aee2-24d616fd911c",
   "metadata": {
    "tags": []
   },
   "outputs": [],
   "source": [
    "df_stores = pd.read_csv('../data/raw/stores.csv', delimiter=';', encoding='ISO-8859-1')\n",
    "df_stores.dropna(subset=['store_nbr'], inplace=True)\n",
    "df_stores['Store name'] = df_stores['Store name'].str.replace('FC-', '')\n",
    "df_stores['Store name'] = df_stores['Store name'].str.split('-', expand=True)[0].apply(lambda x: 'Fashion Bazaar' if 'FBB' in x else 'Smart Bazaar')\n",
    "df_stores.rename(columns={'Store name': 'store_name'}, inplace=True)\n",
    "\n",
    "# Gather state data\n",
    "store_states = {\n",
    "    2: 'Assam',\n",
    "    3: 'Assam',\n",
    "    21: 'Odisha',\n",
    "    22: 'Odisha',\n",
    "    23: 'Odisha',\n",
    "    39: 'West Bengal',\n",
    "    43: 'West Bengal'\n",
    "}\n",
    "\n",
    "for store_nbr, state in store_states.items():\n",
    "    df_stores.loc[df_stores['store_nbr'] == store_nbr, 'state'] = state\n",
    "\n",
    "df_stores['city'] = df_stores['city'].str.capitalize()\n",
    "df_stores.to_csv('../data/processed/stores_clean.csv', index=False)\n",
    "\n",
    "df_trans = pd.read_csv('../data/raw/transactions.csv')\n",
    "df_trans.to_csv('../data/processed/transactions_clean.csv', index=False)"
   ]
  },
  {
   "cell_type": "markdown",
   "id": "63d08688-a2b5-48e6-b7a8-8d75fab0d17b",
   "metadata": {},
   "source": [
    "# One merged version"
   ]
  },
  {
   "cell_type": "code",
   "execution_count": 182,
   "id": "f19e3d57-3820-459e-a9c4-3c1ca956f9ed",
   "metadata": {
    "tags": []
   },
   "outputs": [],
   "source": [
    "df_sales = pd.read_csv('../data/processed/sales_clean.csv')\n",
    "df_items = pd.read_csv('../data/processed/items_clean.csv')\n",
    "df_stores = pd.read_csv('../data/processed/stores_clean.csv')\n",
    "df_transactions = pd.read_csv('../data/processed/transactions_clean.csv')\n",
    "df_holidays = pd.read_csv('../data/processed/holidays_india_clean.csv')\n",
    "df_oil_daily = pd.read_csv('../data/processed/oil_india_daily_clean.csv')\n",
    "df_oil_monthly = pd.read_csv('../data/processed/oil_india_monthly_clean.csv')\n",
    "\n",
    "\n",
    "# Merge sales & items\n",
    "df = pd.merge(df_sales, df_items, on='item_nbr')\n",
    "\n",
    "# Merge transactions\n",
    "df = pd.merge(df, df_transactions, on=['date', 'store_nbr'])\n",
    "\n",
    "# Merge stores\n",
    "df = pd.merge(df, df_stores, on='store_nbr')\n",
    "\n",
    "# Add total sales\n",
    "df['total_sales'] = df['unit_sales'] * df['item_price']\n",
    "\n",
    "# Add weekday\n",
    "df['date'] = pd.to_datetime(df['date']).dt.date\n",
    "df['weekday'] = df['date'].apply(lambda x: x.weekday())\n",
    "\n",
    "# Merge holidays\n",
    "df_holidays['date'] = pd.to_datetime(df_holidays['date']).dt.date\n",
    "df = pd.merge(df, df_holidays, on='date', how='left')\n",
    "\n",
    "# Merge oil_daily\n",
    "df_oil_daily['date'] = pd.to_datetime(df_oil_daily['date']).dt.date\n",
    "df = pd.merge(df, df_oil_daily, on='date', how='left')\n",
    "df.rename(columns={'price_daily': 'oil_price_daily'}, inplace=True)\n",
    "\n",
    "# Merge oil_monthly\n",
    "df['date'] = pd.to_datetime(df['date'])\n",
    "df['month'] = df['date'].dt.month\n",
    "df['year'] = df['date'].dt.year\n",
    "df_oil_monthly['date_year_month'] = pd.to_datetime(df_oil_monthly['date_year_month'])\n",
    "df_oil_monthly['month'] = df_oil_monthly['date_year_month'].dt.month\n",
    "df_oil_monthly['year'] = df_oil_monthly['date_year_month'].dt.year\n",
    "df = pd.merge(df, df_oil_monthly, on=['month', 'year'])\n",
    "df.drop(['month', 'year'], axis=1, inplace=True)\n",
    "df.rename(columns={'price_monthly': 'oil_price_monthly', 'unit': 'oil_units', 'total_price': 'oil_total_price', 'change': 'oil_change'}, inplace=True)\n",
    "\n",
    "\n",
    "df.to_csv('../data/processed/merged_clean.csv', index=False)"
   ]
  },
  {
   "cell_type": "code",
   "execution_count": null,
   "id": "67b80b9a-3be6-4792-9dc7-6e049004a052",
   "metadata": {},
   "outputs": [],
   "source": [
    "# One split in train & test"
   ]
  }
 ],
 "metadata": {
  "kernelspec": {
   "display_name": "Python 3 (ipykernel)",
   "language": "python",
   "name": "python3"
  },
  "language_info": {
   "codemirror_mode": {
    "name": "ipython",
    "version": 3
   },
   "file_extension": ".py",
   "mimetype": "text/x-python",
   "name": "python",
   "nbconvert_exporter": "python",
   "pygments_lexer": "ipython3",
   "version": "3.11.5"
  }
 },
 "nbformat": 4,
 "nbformat_minor": 5
}
