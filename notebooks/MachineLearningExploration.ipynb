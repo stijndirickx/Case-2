{
 "cells": [
  {
   "cell_type": "markdown",
   "id": "94159392-e4ed-4fb5-b0f0-b0c204653c8c",
   "metadata": {
    "jp-MarkdownHeadingCollapsed": true,
    "tags": []
   },
   "source": [
    "# Exploring the usability of the test.csv file as training data"
   ]
  },
  {
   "cell_type": "markdown",
   "id": "d33e84f7-3b33-48b2-a5b1-3ce3296de961",
   "metadata": {},
   "source": [
    "Import modules"
   ]
  },
  {
   "cell_type": "code",
   "execution_count": 1,
   "id": "29fb74ca-d60a-4528-bebd-02a4b520da38",
   "metadata": {
    "tags": []
   },
   "outputs": [],
   "source": [
    "from sklearn import linear_model\n",
    "from sklearn import model_selection\n",
    "from sklearn import datasets\n",
    "import numpy as np\n",
    "import matplotlib.pyplot as plt\n",
    "import pandas as pd"
   ]
  },
  {
   "cell_type": "markdown",
   "id": "f6f4e347-3e2c-4030-87c8-8093828f22c2",
   "metadata": {},
   "source": [
    "Import test data to explore it"
   ]
  },
  {
   "cell_type": "code",
   "execution_count": 2,
   "id": "81604aec-5427-45b1-a4de-dd8775369f15",
   "metadata": {
    "tags": []
   },
   "outputs": [
    {
     "data": {
      "text/html": [
       "<div>\n",
       "<style scoped>\n",
       "    .dataframe tbody tr th:only-of-type {\n",
       "        vertical-align: middle;\n",
       "    }\n",
       "\n",
       "    .dataframe tbody tr th {\n",
       "        vertical-align: top;\n",
       "    }\n",
       "\n",
       "    .dataframe thead th {\n",
       "        text-align: right;\n",
       "    }\n",
       "</style>\n",
       "<table border=\"1\" class=\"dataframe\">\n",
       "  <thead>\n",
       "    <tr style=\"text-align: right;\">\n",
       "      <th></th>\n",
       "      <th>id</th>\n",
       "      <th>date</th>\n",
       "      <th>store_nbr</th>\n",
       "      <th>item_nbr</th>\n",
       "      <th>onpromotion</th>\n",
       "    </tr>\n",
       "  </thead>\n",
       "  <tbody>\n",
       "    <tr>\n",
       "      <th>0</th>\n",
       "      <td>125497040</td>\n",
       "      <td>2017-08-16</td>\n",
       "      <td>1</td>\n",
       "      <td>96995</td>\n",
       "      <td>0</td>\n",
       "    </tr>\n",
       "    <tr>\n",
       "      <th>1</th>\n",
       "      <td>125497041</td>\n",
       "      <td>2017-08-16</td>\n",
       "      <td>1</td>\n",
       "      <td>99197</td>\n",
       "      <td>0</td>\n",
       "    </tr>\n",
       "    <tr>\n",
       "      <th>2</th>\n",
       "      <td>125497042</td>\n",
       "      <td>2017-08-16</td>\n",
       "      <td>1</td>\n",
       "      <td>103501</td>\n",
       "      <td>0</td>\n",
       "    </tr>\n",
       "    <tr>\n",
       "      <th>3</th>\n",
       "      <td>125497043</td>\n",
       "      <td>2017-08-16</td>\n",
       "      <td>1</td>\n",
       "      <td>103520</td>\n",
       "      <td>0</td>\n",
       "    </tr>\n",
       "    <tr>\n",
       "      <th>4</th>\n",
       "      <td>125497044</td>\n",
       "      <td>2017-08-16</td>\n",
       "      <td>1</td>\n",
       "      <td>103665</td>\n",
       "      <td>0</td>\n",
       "    </tr>\n",
       "  </tbody>\n",
       "</table>\n",
       "</div>"
      ],
      "text/plain": [
       "          id        date  store_nbr  item_nbr  onpromotion\n",
       "0  125497040  2017-08-16          1     96995            0\n",
       "1  125497041  2017-08-16          1     99197            0\n",
       "2  125497042  2017-08-16          1    103501            0\n",
       "3  125497043  2017-08-16          1    103520            0\n",
       "4  125497044  2017-08-16          1    103665            0"
      ]
     },
     "execution_count": 2,
     "metadata": {},
     "output_type": "execute_result"
    }
   ],
   "source": [
    "df = pd.read_csv(\"src/test_clean.csv\")\n",
    "df.head()"
   ]
  },
  {
   "cell_type": "code",
   "execution_count": 3,
   "id": "91ee5c86-d3cc-47bc-995c-09b7d348788c",
   "metadata": {
    "tags": []
   },
   "outputs": [
    {
     "name": "stdout",
     "output_type": "stream",
     "text": [
      "Number of rows in df: 3370464\n",
      "Number of cols in df: 5\n"
     ]
    }
   ],
   "source": [
    "num_rows = df.shape[0]\n",
    "num_cols = df.shape[1]\n",
    "print(\"Number of rows in df:\", num_rows)\n",
    "print(\"Number of cols in df:\", num_cols)"
   ]
  },
  {
   "cell_type": "code",
   "execution_count": 4,
   "id": "eb11d91a-e2ff-45ca-b9ce-401ac5856490",
   "metadata": {
    "tags": []
   },
   "outputs": [
    {
     "name": "stdout",
     "output_type": "stream",
     "text": [
      "id is of type int64\n",
      "date is of type object\n",
      "store_nbr is of type int64\n",
      "item_nbr is of type int64\n",
      "onpromotion is of type int64\n"
     ]
    }
   ],
   "source": [
    "for col in df.columns:\n",
    "    print(f\"{col} is of type {df[col].dtype}\")"
   ]
  },
  {
   "cell_type": "code",
   "execution_count": 5,
   "id": "1baa684f-c6c5-4d5a-a19d-864ce16c46b5",
   "metadata": {
    "tags": []
   },
   "outputs": [
    {
     "name": "stdout",
     "output_type": "stream",
     "text": [
      "id is of type int64\n",
      "date is of type datetime64[ns]\n",
      "store_nbr is of type int64\n",
      "item_nbr is of type int64\n",
      "onpromotion is of type int64\n"
     ]
    }
   ],
   "source": [
    "# Change date column to date type\n",
    "df['date'] = pd.to_datetime(df['date'])\n",
    "for col in df.columns:\n",
    "    print(f\"{col} is of type {df[col].dtype}\")"
   ]
  },
  {
   "cell_type": "code",
   "execution_count": 6,
   "id": "a9914743-0337-4fb8-b834-14b8e32a91d2",
   "metadata": {
    "tags": []
   },
   "outputs": [
    {
     "name": "stdout",
     "output_type": "stream",
     "text": [
      "Minimum Date: 2017-08-16 00:00:00\n",
      "Maximum Date: 2017-08-31 00:00:00\n",
      "The range of unique dates in the test_clean file is <DatetimeArray>\n",
      "['2017-08-16 00:00:00', '2017-08-17 00:00:00', '2017-08-18 00:00:00',\n",
      " '2017-08-19 00:00:00', '2017-08-20 00:00:00', '2017-08-21 00:00:00',\n",
      " '2017-08-22 00:00:00', '2017-08-23 00:00:00', '2017-08-24 00:00:00',\n",
      " '2017-08-25 00:00:00', '2017-08-26 00:00:00', '2017-08-27 00:00:00',\n",
      " '2017-08-28 00:00:00', '2017-08-29 00:00:00', '2017-08-30 00:00:00',\n",
      " '2017-08-31 00:00:00']\n",
      "Length: 16, dtype: datetime64[ns]\n"
     ]
    }
   ],
   "source": [
    "# What is the range of dates?\n",
    "min_date = df['date'].min()\n",
    "max_date = df['date'].max()\n",
    "\n",
    "print(\"Minimum Date:\", min_date)\n",
    "print(\"Maximum Date:\", max_date)\n",
    "\n",
    "# This seems short, lets look at the unique values\n",
    "unique_dates = df['date'].unique()\n",
    "print(f\"The range of unique dates in the test_clean file is {unique_dates}\")"
   ]
  },
  {
   "cell_type": "markdown",
   "id": "dab8918c-898d-4495-a04b-073c05d68f7f",
   "metadata": {},
   "source": [
    "The data in test_clean.csv seems short. Lets look at the raw file."
   ]
  },
  {
   "cell_type": "code",
   "execution_count": 7,
   "id": "d7622e93-e0fd-49aa-bc51-7401741b301a",
   "metadata": {
    "tags": []
   },
   "outputs": [
    {
     "name": "stdout",
     "output_type": "stream",
     "text": [
      "Minimum Date: 2017-08-16\n",
      "Maximum Date: 2017-08-31\n",
      "The range of unique dates in the test_clean file is ['2017-08-16' '2017-08-17' '2017-08-18' '2017-08-19' '2017-08-20'\n",
      " '2017-08-21' '2017-08-22' '2017-08-23' '2017-08-24' '2017-08-25'\n",
      " '2017-08-26' '2017-08-27' '2017-08-28' '2017-08-29' '2017-08-30'\n",
      " '2017-08-31']\n"
     ]
    }
   ],
   "source": [
    "df_raw = pd.read_csv(\"src/test.csv\")\n",
    "# What is the range of dates?\n",
    "min_date = df_raw['date'].min()\n",
    "max_date = df_raw['date'].max()\n",
    "\n",
    "print(\"Minimum Date:\", min_date)\n",
    "print(\"Maximum Date:\", max_date)\n",
    "\n",
    "# This seems short, lets look at the unique values\n",
    "unique_dates = df_raw['date'].unique()\n",
    "print(f\"The range of unique dates in the test_clean file is {unique_dates}\")"
   ]
  },
  {
   "cell_type": "markdown",
   "id": "d1603b4c-4e03-45b0-a404-f7b566f39d63",
   "metadata": {},
   "source": [
    "The raw file has the same date range. I'm not going to be able to train a model for seasonal predictions."
   ]
  },
  {
   "cell_type": "markdown",
   "id": "8731faee-b780-41ff-89b2-aff01af34149",
   "metadata": {
    "jp-MarkdownHeadingCollapsed": true,
    "tags": []
   },
   "source": [
    "# Plan of Action"
   ]
  },
  {
   "cell_type": "markdown",
   "id": "2a758d8d-dc6e-4176-87d0-b45299b2f205",
   "metadata": {
    "jp-MarkdownHeadingCollapsed": true,
    "tags": []
   },
   "source": [
    "## Step 1\n",
    "Load and format sales data for the model.\n",
    "The sales data column 'date' will be removed in favor of a month and day column.\n",
    "\n",
    "## Step 2\n",
    "The sales data will be split in 5 folds. 4 will be used to train the model. 1 will be used to test.\n",
    "\n",
    "## Step 3\n",
    "Based on the accuracy I will iterate the parameters of the model to get a higher score.\n",
    "\n",
    "## Step 4\n",
    "Once this is done I can use the model to predict the amount of an item you will sell. \n",
    "For that I use the test data, which will add a column to it called \"predicted_sales\"."
   ]
  },
  {
   "cell_type": "markdown",
   "id": "c9ab09a8-86c5-49c7-b472-4bb9139115cd",
   "metadata": {
    "jp-MarkdownHeadingCollapsed": true,
    "tags": []
   },
   "source": [
    "# Step 1: Load and format sales data for the model"
   ]
  },
  {
   "cell_type": "code",
   "execution_count": 8,
   "id": "cf0b44ed-100c-4743-8e6b-b3f9f088b6fe",
   "metadata": {
    "tags": []
   },
   "outputs": [
    {
     "name": "stdout",
     "output_type": "stream",
     "text": [
      "         store_nbr  item_nbr  month  day  unit_sales\n",
      "0               25    103665      1    1         7.0\n",
      "1               25    214381      1    1         5.0\n",
      "2               25    315179      1    1         4.0\n",
      "3               25    414752      1    1         1.0\n",
      "4               25    557408      1    1         3.0\n",
      "...            ...       ...    ...  ...         ...\n",
      "2091613         54   1711747      8   15         1.0\n",
      "2091614         54   1964356      8   15        11.0\n",
      "2091615         54   2006310      8   15         1.0\n",
      "2091616         54   2018471      8   15         1.0\n",
      "2091617         54   2061033      8   15        23.0\n",
      "\n",
      "[2091618 rows x 5 columns]\n"
     ]
    },
    {
     "name": "stderr",
     "output_type": "stream",
     "text": [
      "C:\\Users\\tangu\\AppData\\Local\\Temp\\ipykernel_9636\\1313334988.py:9: SettingWithCopyWarning: \n",
      "A value is trying to be set on a copy of a slice from a DataFrame.\n",
      "Try using .loc[row_indexer,col_indexer] = value instead\n",
      "\n",
      "See the caveats in the documentation: https://pandas.pydata.org/pandas-docs/stable/user_guide/indexing.html#returning-a-view-versus-a-copy\n",
      "  df_ML['date'] = pd.to_datetime(df_ML['date'])\n",
      "C:\\Users\\tangu\\AppData\\Local\\Temp\\ipykernel_9636\\1313334988.py:12: SettingWithCopyWarning: \n",
      "A value is trying to be set on a copy of a slice from a DataFrame.\n",
      "Try using .loc[row_indexer,col_indexer] = value instead\n",
      "\n",
      "See the caveats in the documentation: https://pandas.pydata.org/pandas-docs/stable/user_guide/indexing.html#returning-a-view-versus-a-copy\n",
      "  df_ML['month'] = df_ML['date'].dt.month\n",
      "C:\\Users\\tangu\\AppData\\Local\\Temp\\ipykernel_9636\\1313334988.py:13: SettingWithCopyWarning: \n",
      "A value is trying to be set on a copy of a slice from a DataFrame.\n",
      "Try using .loc[row_indexer,col_indexer] = value instead\n",
      "\n",
      "See the caveats in the documentation: https://pandas.pydata.org/pandas-docs/stable/user_guide/indexing.html#returning-a-view-versus-a-copy\n",
      "  df_ML['day'] = df_ML['date'].dt.day\n",
      "C:\\Users\\tangu\\AppData\\Local\\Temp\\ipykernel_9636\\1313334988.py:16: SettingWithCopyWarning: \n",
      "A value is trying to be set on a copy of a slice from a DataFrame\n",
      "\n",
      "See the caveats in the documentation: https://pandas.pydata.org/pandas-docs/stable/user_guide/indexing.html#returning-a-view-versus-a-copy\n",
      "  df_ML.drop(columns=['date'], inplace=True)\n"
     ]
    }
   ],
   "source": [
    "# Load salesdata\n",
    "df_sales = pd.read_csv(\"src/sales_clean.csv\")\n",
    "\n",
    "# select relevant columns\n",
    "selected_columns = ['date', 'store_nbr', 'item_nbr', 'unit_sales']\n",
    "df_ML = df_sales[selected_columns]\n",
    "\n",
    "#Formatting the date column\n",
    "df_ML['date'] = pd.to_datetime(df_ML['date'])\n",
    "\n",
    "# Extract month and day into new columns\n",
    "df_ML['month'] = df_ML['date'].dt.month\n",
    "df_ML['day'] = df_ML['date'].dt.day\n",
    "\n",
    "# Delete the original 'date' column\n",
    "df_ML.drop(columns=['date'], inplace=True)\n",
    "\n",
    "# Put the unit_sales column in the last position\n",
    "df_ML = df_ML[[col for col in df_ML if col != 'unit_sales'] + ['unit_sales']]\n",
    "\n",
    "# Print the modified DataFrame\n",
    "print(df_ML)\n"
   ]
  },
  {
   "cell_type": "code",
   "execution_count": 9,
   "id": "ae5de878-c865-49cf-8196-1de6866ce27c",
   "metadata": {
    "tags": []
   },
   "outputs": [
    {
     "name": "stdout",
     "output_type": "stream",
     "text": [
      "Minimum Month: 1\n",
      "Maximum Month: 12\n",
      "Minimum Day: 1\n",
      "Maximum Day: 31\n"
     ]
    }
   ],
   "source": [
    "# What is the range of dates?\n",
    "min_month = df_ML['month'].min()\n",
    "max_month = df_ML['month'].max()\n",
    "\n",
    "print(\"Minimum Month:\", min_month)\n",
    "print(\"Maximum Month:\", max_month)\n",
    "\n",
    "min_day = df_ML['day'].min()\n",
    "max_day = df_ML['day'].max()\n",
    "\n",
    "print(\"Minimum Day:\", min_day)\n",
    "print(\"Maximum Day:\", max_day)"
   ]
  },
  {
   "cell_type": "code",
   "execution_count": 10,
   "id": "f4a2ea59-2cdc-4dc3-9ba1-eb988924e05b",
   "metadata": {
    "tags": []
   },
   "outputs": [
    {
     "name": "stdout",
     "output_type": "stream",
     "text": [
      "The type of store_nbr is int64\n",
      "The minimum value of column store_nbr is 1\n",
      "The maximum value of column store_nbr is 54\n",
      "The type of item_nbr is int64\n",
      "The minimum value of column item_nbr is 96995\n",
      "The maximum value of column item_nbr is 2127114\n",
      "The type of month is int32\n",
      "The minimum value of column month is 1\n",
      "The maximum value of column month is 12\n",
      "The type of day is int32\n",
      "The minimum value of column day is 1\n",
      "The maximum value of column day is 31\n",
      "The type of unit_sales is float64\n",
      "The minimum value of column unit_sales is -300.0\n",
      "The maximum value of column unit_sales is 9610.0\n"
     ]
    }
   ],
   "source": [
    "for col in df_ML.columns:\n",
    "    print(f\"The type of {col} is {df_ML[col].dtype}\")\n",
    "    print(f\"The minimum value of column {col} is {df_ML[col].min()}\")\n",
    "    print(f\"The maximum value of column {col} is {df_ML[col].max()}\")"
   ]
  },
  {
   "cell_type": "code",
   "execution_count": 11,
   "id": "02bf76d0-d187-413b-9298-9aa42b7effbd",
   "metadata": {
    "tags": []
   },
   "outputs": [
    {
     "name": "stdout",
     "output_type": "stream",
     "text": [
      "_______________________________________________\n",
      "The type of store_nbr is int64\n",
      "The minimum value of column store_nbr is 1\n",
      "The maximum value of column store_nbr is 54\n",
      "_______________________________________________\n",
      "The type of item_nbr is int64\n",
      "The minimum value of column item_nbr is 96995\n",
      "The maximum value of column item_nbr is 2127114\n",
      "_______________________________________________\n",
      "The type of month is int32\n",
      "The minimum value of column month is 1\n",
      "The maximum value of column month is 12\n",
      "_______________________________________________\n",
      "The type of day is int32\n",
      "The minimum value of column day is 1\n",
      "The maximum value of column day is 31\n",
      "_______________________________________________\n",
      "The type of unit_sales is int32\n",
      "The minimum value of column unit_sales is 0\n",
      "The maximum value of column unit_sales is 9610\n"
     ]
    }
   ],
   "source": [
    "# Remove rows with negative unit_sales\n",
    "df_ML = df_ML[df_ML['unit_sales'] >= 0]\n",
    "    \n",
    "# Format unit_sales to int\n",
    "df_ML['unit_sales'] = df_ML['unit_sales'].astype(int)\n",
    "\n",
    "# Print dataframe information\n",
    "for col in df_ML.columns:\n",
    "    print(\"_______________________________________________\")\n",
    "    print(f\"The type of {col} is {df_ML[col].dtype}\")\n",
    "    print(f\"The minimum value of column {col} is {df_ML[col].min()}\")\n",
    "    print(f\"The maximum value of column {col} is {df_ML[col].max()}\")"
   ]
  },
  {
   "cell_type": "code",
   "execution_count": 12,
   "id": "1487fcc2-63da-4753-8755-4daf608bff45",
   "metadata": {
    "tags": []
   },
   "outputs": [
    {
     "data": {
      "image/png": "[encoded data removed]",
      "text/plain": [
       "<Figure size 1000x600 with 1 Axes>"
      ]
     },
     "metadata": {},
     "output_type": "display_data"
    }
   ],
   "source": [
    "# Explore the values of unit_sales with a histogram\n",
    "#df_ML['unit_sales'].hist(log = True)\n",
    "#plt.ylim(1, 100)\n",
    "plt.figure(figsize=(10, 6))  # Adjust figure size as needed\n",
    "plt.hist(df_ML['unit_sales'], bins=50, log=True, color='skyblue', edgecolor='black')  # Adjust number of bins and range as needed\n",
    "plt.xlabel('Unit Sales')\n",
    "plt.ylabel('Frequency (log scale)')\n",
    "plt.title('Distribution of Unit Sales')\n",
    "plt.grid(True)\n",
    "plt.show()"
   ]
  },
  {
   "cell_type": "code",
   "execution_count": 13,
   "id": "284fd4fa-092d-4c48-8f74-0d655fd73c20",
   "metadata": {
    "tags": []
   },
   "outputs": [
    {
     "name": "stdout",
     "output_type": "stream",
     "text": [
      "1\n",
      "0\n"
     ]
    }
   ],
   "source": [
    "# Figure out how many entries there are where the sales exceed 4000\n",
    "count_of_sales_above_4k = df_ML[df_ML[\"unit_sales\"] >= 4000].shape[0]\n",
    "print(count_of_sales_above_4k)\n",
    "\n",
    "# Remove entries where the sales exceed 4000\n",
    "df_ML = df_ML[df_ML[\"unit_sales\"] <= 4000]\n",
    "\n",
    "count_of_sales_above_4k = df_ML[df_ML[\"unit_sales\"] >= 4000].shape[0]\n",
    "print(count_of_sales_above_4k)"
   ]
  },
  {
   "cell_type": "markdown",
   "id": "0fce85ff",
   "metadata": {
    "jp-MarkdownHeadingCollapsed": true,
    "tags": []
   },
   "source": [
    "# Step 2: split in 5 folds. 4 will be used to train the model. 1 will be used to test."
   ]
  },
  {
   "cell_type": "code",
   "execution_count": 15,
   "id": "f5688bca",
   "metadata": {
    "tags": []
   },
   "outputs": [],
   "source": [
    "# Select the columns that represent the variables that influence our target variable: unit_sales\n",
    "selected_columns = ['month', 'day', 'store_nbr', 'item_nbr']\n",
    "X = df_ML[selected_columns]\n",
    "y = df_ML['unit_sales']\n",
    "\n",
    "# Split the data\n",
    "x_train, x_test, y_train, y_test = model_selection.train_test_split(X, y, train_size=0.8, random_state=6)"
   ]
  },
  {
   "cell_type": "code",
   "execution_count": 16,
   "id": "04f6300e-838c-4e67-89f5-084868487555",
   "metadata": {
    "tags": []
   },
   "outputs": [
    {
     "data": {
      "text/html": [
       "<style>#sk-container-id-1 {color: black;}#sk-container-id-1 pre{padding: 0;}#sk-container-id-1 div.sk-toggleable {background-color: white;}#sk-container-id-1 label.sk-toggleable__label {cursor: pointer;display: block;width: 100%;margin-bottom: 0;padding: 0.3em;box-sizing: border-box;text-align: center;}#sk-container-id-1 label.sk-toggleable__label-arrow:before {content: \"▸\";float: left;margin-right: 0.25em;color: #696969;}#sk-container-id-1 label.sk-toggleable__label-arrow:hover:before {color: black;}#sk-container-id-1 div.sk-estimator:hover label.sk-toggleable__label-arrow:before {color: black;}#sk-container-id-1 div.sk-toggleable__content {max-height: 0;max-width: 0;overflow: hidden;text-align: left;background-color: #f0f8ff;}#sk-container-id-1 div.sk-toggleable__content pre {margin: 0.2em;color: black;border-radius: 0.25em;background-color: #f0f8ff;}#sk-container-id-1 input.sk-toggleable__control:checked~div.sk-toggleable__content {max-height: 200px;max-width: 100%;overflow: auto;}#sk-container-id-1 input.sk-toggleable__control:checked~label.sk-toggleable__label-arrow:before {content: \"▾\";}#sk-container-id-1 div.sk-estimator input.sk-toggleable__control:checked~label.sk-toggleable__label {background-color: #d4ebff;}#sk-container-id-1 div.sk-label input.sk-toggleable__control:checked~label.sk-toggleable__label {background-color: #d4ebff;}#sk-container-id-1 input.sk-hidden--visually {border: 0;clip: rect(1px 1px 1px 1px);clip: rect(1px, 1px, 1px, 1px);height: 1px;margin: -1px;overflow: hidden;padding: 0;position: absolute;width: 1px;}#sk-container-id-1 div.sk-estimator {font-family: monospace;background-color: #f0f8ff;border: 1px dotted black;border-radius: 0.25em;box-sizing: border-box;margin-bottom: 0.5em;}#sk-container-id-1 div.sk-estimator:hover {background-color: #d4ebff;}#sk-container-id-1 div.sk-parallel-item::after {content: \"\";width: 100%;border-bottom: 1px solid gray;flex-grow: 1;}#sk-container-id-1 div.sk-label:hover label.sk-toggleable__label {background-color: #d4ebff;}#sk-container-id-1 div.sk-serial::before {content: \"\";position: absolute;border-left: 1px solid gray;box-sizing: border-box;top: 0;bottom: 0;left: 50%;z-index: 0;}#sk-container-id-1 div.sk-serial {display: flex;flex-direction: column;align-items: center;background-color: white;padding-right: 0.2em;padding-left: 0.2em;position: relative;}#sk-container-id-1 div.sk-item {position: relative;z-index: 1;}#sk-container-id-1 div.sk-parallel {display: flex;align-items: stretch;justify-content: center;background-color: white;position: relative;}#sk-container-id-1 div.sk-item::before, #sk-container-id-1 div.sk-parallel-item::before {content: \"\";position: absolute;border-left: 1px solid gray;box-sizing: border-box;top: 0;bottom: 0;left: 50%;z-index: -1;}#sk-container-id-1 div.sk-parallel-item {display: flex;flex-direction: column;z-index: 1;position: relative;background-color: white;}#sk-container-id-1 div.sk-parallel-item:first-child::after {align-self: flex-end;width: 50%;}#sk-container-id-1 div.sk-parallel-item:last-child::after {align-self: flex-start;width: 50%;}#sk-container-id-1 div.sk-parallel-item:only-child::after {width: 0;}#sk-container-id-1 div.sk-dashed-wrapped {border: 1px dashed gray;margin: 0 0.4em 0.5em 0.4em;box-sizing: border-box;padding-bottom: 0.4em;background-color: white;}#sk-container-id-1 div.sk-label label {font-family: monospace;font-weight: bold;display: inline-block;line-height: 1.2em;}#sk-container-id-1 div.sk-label-container {text-align: center;}#sk-container-id-1 div.sk-container {/* jupyter's `normalize.less` sets `[hidden] { display: none; }` but bootstrap.min.css set `[hidden] { display: none !important; }` so we also need the `!important` here to be able to override the default hidden behavior on the sphinx rendered scikit-learn.org. See: https://github.com/scikit-learn/scikit-learn/issues/21755 */display: inline-block !important;position: relative;}#sk-container-id-1 div.sk-text-repr-fallback {display: none;}</style><div id=\"sk-container-id-1\" class=\"sk-top-container\"><div class=\"sk-text-repr-fallback\"><pre>LinearRegression()</pre><b>In a Jupyter environment, please rerun this cell to show the HTML representation or trust the notebook. <br />On GitHub, the HTML representation is unable to render, please try loading this page with nbviewer.org.</b></div><div class=\"sk-container\" hidden><div class=\"sk-item\"><div class=\"sk-estimator sk-toggleable\"><input class=\"sk-toggleable__control sk-hidden--visually\" id=\"sk-estimator-id-1\" type=\"checkbox\" checked><label for=\"sk-estimator-id-1\" class=\"sk-toggleable__label sk-toggleable__label-arrow\">LinearRegression</label><div class=\"sk-toggleable__content\"><pre>LinearRegression()</pre></div></div></div></div></div>"
      ],
      "text/plain": [
       "LinearRegression()"
      ]
     },
     "execution_count": 16,
     "metadata": {},
     "output_type": "execute_result"
    }
   ],
   "source": [
    "# Create linear regression model and fit the training data\n",
    "line_fitter = linear_model.LinearRegression()\n",
    "line_fitter.fit(x_train, y_train)"
   ]
  },
  {
   "cell_type": "code",
   "execution_count": 17,
   "id": "c991956f-d2a6-43d9-aac1-36a9d4d19d31",
   "metadata": {
    "tags": []
   },
   "outputs": [
    {
     "data": {
      "image/png": "[encoded data removed]",
      "text/plain": [
       "<Figure size 800x600 with 1 Axes>"
      ]
     },
     "metadata": {},
     "output_type": "display_data"
    }
   ],
   "source": [
    "# Predict unit_sales for the test set\n",
    "predicted_unit_sales = line_fitter.predict(x_test)\n",
    "\n",
    "# Create a scatter plot\n",
    "plt.figure(figsize=(8, 6))\n",
    "plt.scatter(y_test, predicted_unit_sales, color='blue', alpha=0.5)\n",
    "plt.title('Actual Unit Sales vs. Estimated Unit Sales')\n",
    "plt.xlabel('Actual Unit Sales')\n",
    "plt.ylabel('Estimated Unit Sales')\n",
    "plt.grid(True)\n",
    "plt.show()"
   ]
  },
  {
   "cell_type": "markdown",
   "id": "67fd1e04-3144-4763-9ab0-f48f4db50742",
   "metadata": {},
   "source": [
    "It appears that the model severely underpredicts the unit sales. To remedy this I will take the sales of only one store. Then train the model with the item_nbr and date."
   ]
  },
  {
   "cell_type": "markdown",
   "id": "2e7e745c-8c64-4b87-a3ca-ee2e1864d67f",
   "metadata": {
    "jp-MarkdownHeadingCollapsed": true,
    "tags": []
   },
   "source": [
    "# Step 1: Revisited"
   ]
  },
  {
   "cell_type": "code",
   "execution_count": 43,
   "id": "505b6db0-40cb-48d6-945a-c032c97032b1",
   "metadata": {
    "tags": []
   },
   "outputs": [
    {
     "name": "stdout",
     "output_type": "stream",
     "text": [
      "_______________________________________________\n",
      "The type of date is datetime64[ns, UTC]\n",
      "The minimum value of column date is 2013-01-01 00:00:00+00:00\n",
      "The maximum value of column date is 2017-08-15 00:00:00+00:00\n",
      "_______________________________________________\n",
      "The type of store_nbr is int64\n",
      "The minimum value of column store_nbr is 1\n",
      "The maximum value of column store_nbr is 54\n",
      "_______________________________________________\n",
      "The type of item_nbr is int64\n",
      "The minimum value of column item_nbr is 96995\n",
      "The maximum value of column item_nbr is 2127114\n",
      "_______________________________________________\n",
      "The type of unit_sales is float64\n",
      "The minimum value of column unit_sales is -300.0\n",
      "The maximum value of column unit_sales is 9610.0\n"
     ]
    },
    {
     "name": "stderr",
     "output_type": "stream",
     "text": [
      "C:\\Users\\tangu\\AppData\\Local\\Temp\\ipykernel_9636\\1978806082.py:13: SettingWithCopyWarning:\n",
      "\n",
      "\n",
      "A value is trying to be set on a copy of a slice from a DataFrame.\n",
      "Try using .loc[row_indexer,col_indexer] = value instead\n",
      "\n",
      "See the caveats in the documentation: https://pandas.pydata.org/pandas-docs/stable/user_guide/indexing.html#returning-a-view-versus-a-copy\n",
      "\n"
     ]
    }
   ],
   "source": [
    "# Approach 2: take the sales of only one store. Then train the model with the item_nbr and date.\n",
    "# Load salesdata\n",
    "df_sales = pd.read_csv(\"src/sales_clean.csv\")\n",
    "\n",
    "# select relevant columns\n",
    "selected_columns = ['date', 'store_nbr', 'item_nbr', 'unit_sales']\n",
    "df_ML = df_sales[selected_columns]\n",
    "\n",
    "# To test the approach, take data from store 1\n",
    "#df_ML = df_ML[df_ML['store_nbr'] == 1]\n",
    "\n",
    "#Format the date column\n",
    "df_ML['date'] = pd.to_datetime(df_ML['date'])\n",
    "\n",
    "\n",
    "# Print dataframe information\n",
    "for col in df_ML.columns:\n",
    "    print(\"_______________________________________________\")\n",
    "    print(f\"The type of {col} is {df_ML[col].dtype}\")\n",
    "    print(f\"The minimum value of column {col} is {df_ML[col].min()}\")\n",
    "    print(f\"The maximum value of column {col} is {df_ML[col].max()}\")"
   ]
  },
  {
   "cell_type": "code",
   "execution_count": 45,
   "id": "72309e06-76c9-4382-af53-e01dafda40a2",
   "metadata": {
    "tags": []
   },
   "outputs": [
    {
     "name": "stdout",
     "output_type": "stream",
     "text": [
      "_______________________________________________\n",
      "The type of date is datetime64[ns, UTC]\n",
      "The minimum value of column date is 2013-01-01 00:00:00+00:00\n",
      "The maximum value of column date is 2017-08-15 00:00:00+00:00\n",
      "_______________________________________________\n",
      "The type of store_nbr is int64\n",
      "The minimum value of column store_nbr is 1\n",
      "The maximum value of column store_nbr is 54\n",
      "_______________________________________________\n",
      "The type of item_nbr is int64\n",
      "The minimum value of column item_nbr is 96995\n",
      "The maximum value of column item_nbr is 2127114\n",
      "_______________________________________________\n",
      "The type of unit_sales is int32\n",
      "The minimum value of column unit_sales is 0\n",
      "The maximum value of column unit_sales is 2750\n"
     ]
    }
   ],
   "source": [
    "# Remove rows with negative unit_sales\n",
    "df_ML = df_ML[df_ML['unit_sales'] >= 0]\n",
    "    \n",
    "# Remove entries where the sales exceed 4000\n",
    "df_ML = df_ML[df_ML[\"unit_sales\"] <= 4000]\n",
    "\n",
    "# Format unit_sales to int\n",
    "df_ML['unit_sales'] = df_ML['unit_sales'].astype(int)\n",
    "\n",
    "# Print dataframe information\n",
    "for col in df_ML.columns:\n",
    "    print(\"_______________________________________________\")\n",
    "    print(f\"The type of {col} is {df_ML[col].dtype}\")\n",
    "    print(f\"The minimum value of column {col} is {df_ML[col].min()}\")\n",
    "    print(f\"The maximum value of column {col} is {df_ML[col].max()}\")"
   ]
  },
  {
   "cell_type": "markdown",
   "id": "47d09b98-51b3-47dc-98f7-f4b4425bca8f",
   "metadata": {
    "jp-MarkdownHeadingCollapsed": true,
    "tags": []
   },
   "source": [
    "# Step 2: Revisited"
   ]
  },
  {
   "cell_type": "code",
   "execution_count": 49,
   "id": "f3ce404f-e7a9-4475-8fa4-1337be46f7e6",
   "metadata": {
    "tags": []
   },
   "outputs": [
    {
     "name": "stderr",
     "output_type": "stream",
     "text": [
      "C:\\Users\\tangu\\anaconda3\\Lib\\site-packages\\statsmodels\\tsa\\base\\tsa_model.py:473: ValueWarning:\n",
      "\n",
      "A date index has been provided, but it has no associated frequency information and so will be ignored when e.g. forecasting.\n",
      "\n",
      "C:\\Users\\tangu\\anaconda3\\Lib\\site-packages\\statsmodels\\tsa\\base\\tsa_model.py:473: ValueWarning:\n",
      "\n",
      "A date index has been provided, but it has no associated frequency information and so will be ignored when e.g. forecasting.\n",
      "\n",
      "C:\\Users\\tangu\\anaconda3\\Lib\\site-packages\\statsmodels\\tsa\\statespace\\sarimax.py:966: UserWarning:\n",
      "\n",
      "Non-stationary starting autoregressive parameters found. Using zeros as starting parameters.\n",
      "\n",
      "C:\\Users\\tangu\\anaconda3\\Lib\\site-packages\\statsmodels\\tsa\\base\\tsa_model.py:836: ValueWarning:\n",
      "\n",
      "No supported index is available. Prediction results will be given with an integer index beginning at `start`.\n",
      "\n",
      "C:\\Users\\tangu\\anaconda3\\Lib\\site-packages\\statsmodels\\tsa\\base\\tsa_model.py:836: FutureWarning:\n",
      "\n",
      "No supported index is available. In the next version, calling this method in a model without a supported index will result in an exception.\n",
      "\n"
     ]
    },
    {
     "data": {
      "application/vnd.plotly.v1+json": {
       "config": {
        "plotlyServerURL": "https://plot.ly"
       },
       "data": [
        {
         "mode": "lines",
         "name": "Actual",
         "type": "scatter",
         "x": [
          "2014-01-02T00:00:00+00:00",
          "2014-01-04T00:00:00+00:00",
          "2014-01-08T00:00:00+00:00",
          "2014-01-09T00:00:00+00:00",
          "2014-01-09T00:00:00+00:00",
          "2014-01-14T00:00:00+00:00",
          "2014-01-15T00:00:00+00:00",
          "2014-01-19T00:00:00+00:00",
          "2014-01-20T00:00:00+00:00",
          "2014-01-23T00:00:00+00:00",
          "2014-01-25T00:00:00+00:00",
          "2014-01-30T00:00:00+00:00",
          "2014-03-02T00:00:00+00:00",
          "2014-03-05T00:00:00+00:00",
          "2014-03-08T00:00:00+00:00",
          "2014-03-09T00:00:00+00:00",
          "2014-03-10T00:00:00+00:00",
          "2014-03-10T00:00:00+00:00",
          "2014-03-14T00:00:00+00:00",
          "2014-03-16T00:00:00+00:00",
          "2014-03-19T00:00:00+00:00",
          "2014-03-22T00:00:00+00:00",
          "2014-03-23T00:00:00+00:00",
          "2014-03-25T00:00:00+00:00",
          "2014-03-25T00:00:00+00:00",
          "2014-03-29T00:00:00+00:00",
          "2014-07-03T00:00:00+00:00",
          "2014-07-04T00:00:00+00:00",
          "2014-07-11T00:00:00+00:00",
          "2014-07-13T00:00:00+00:00",
          "2014-07-14T00:00:00+00:00",
          "2014-07-14T00:00:00+00:00",
          "2014-07-16T00:00:00+00:00",
          "2014-07-24T00:00:00+00:00",
          "2014-07-29T00:00:00+00:00",
          "2014-07-30T00:00:00+00:00",
          "2014-09-01T00:00:00+00:00",
          "2014-09-02T00:00:00+00:00",
          "2014-09-05T00:00:00+00:00",
          "2014-09-08T00:00:00+00:00",
          "2014-09-08T00:00:00+00:00",
          "2014-09-11T00:00:00+00:00",
          "2014-09-18T00:00:00+00:00",
          "2014-09-20T00:00:00+00:00",
          "2014-09-20T00:00:00+00:00",
          "2014-09-20T00:00:00+00:00",
          "2014-09-23T00:00:00+00:00",
          "2014-09-23T00:00:00+00:00",
          "2014-09-26T00:00:00+00:00",
          "2014-09-29T00:00:00+00:00",
          "2014-10-02T00:00:00+00:00",
          "2014-10-04T00:00:00+00:00",
          "2014-10-06T00:00:00+00:00",
          "2014-10-14T00:00:00+00:00",
          "2014-10-15T00:00:00+00:00",
          "2014-10-17T00:00:00+00:00",
          "2014-10-18T00:00:00+00:00",
          "2014-10-18T00:00:00+00:00",
          "2014-10-23T00:00:00+00:00",
          "2014-10-27T00:00:00+00:00",
          "2014-11-02T00:00:00+00:00",
          "2014-11-03T00:00:00+00:00",
          "2014-11-06T00:00:00+00:00",
          "2014-11-06T00:00:00+00:00",
          "2014-11-07T00:00:00+00:00",
          "2014-11-09T00:00:00+00:00",
          "2014-11-11T00:00:00+00:00",
          "2014-11-12T00:00:00+00:00",
          "2014-11-12T00:00:00+00:00",
          "2014-11-13T00:00:00+00:00",
          "2014-11-14T00:00:00+00:00",
          "2014-11-25T00:00:00+00:00",
          "2014-11-27T00:00:00+00:00",
          "2014-11-28T00:00:00+00:00",
          "2014-12-01T00:00:00+00:00",
          "2014-12-05T00:00:00+00:00",
          "2014-12-06T00:00:00+00:00",
          "2014-12-06T00:00:00+00:00",
          "2014-12-08T00:00:00+00:00",
          "2014-12-12T00:00:00+00:00",
          "2014-12-15T00:00:00+00:00",
          "2014-12-16T00:00:00+00:00",
          "2014-12-16T00:00:00+00:00",
          "2014-12-16T00:00:00+00:00",
          "2014-12-18T00:00:00+00:00",
          "2014-12-19T00:00:00+00:00",
          "2014-12-20T00:00:00+00:00",
          "2014-12-23T00:00:00+00:00",
          "2014-12-24T00:00:00+00:00",
          "2014-12-26T00:00:00+00:00",
          "2014-12-27T00:00:00+00:00",
          "2015-06-08T00:00:00+00:00",
          "2015-06-11T00:00:00+00:00",
          "2015-06-14T00:00:00+00:00",
          "2015-06-18T00:00:00+00:00",
          "2015-06-19T00:00:00+00:00",
          "2015-06-21T00:00:00+00:00",
          "2015-06-21T00:00:00+00:00",
          "2015-06-21T00:00:00+00:00",
          "2015-06-22T00:00:00+00:00",
          "2015-06-23T00:00:00+00:00",
          "2015-07-03T00:00:00+00:00",
          "2015-07-05T00:00:00+00:00",
          "2015-07-07T00:00:00+00:00",
          "2015-07-10T00:00:00+00:00",
          "2015-07-15T00:00:00+00:00",
          "2015-07-16T00:00:00+00:00",
          "2015-07-17T00:00:00+00:00",
          "2015-07-17T00:00:00+00:00",
          "2015-07-19T00:00:00+00:00",
          "2015-07-20T00:00:00+00:00",
          "2015-07-21T00:00:00+00:00",
          "2015-07-21T00:00:00+00:00",
          "2015-07-22T00:00:00+00:00",
          "2015-07-24T00:00:00+00:00",
          "2015-07-26T00:00:00+00:00",
          "2015-07-30T00:00:00+00:00",
          "2015-07-31T00:00:00+00:00",
          "2015-08-01T00:00:00+00:00",
          "2015-08-01T00:00:00+00:00",
          "2015-08-04T00:00:00+00:00",
          "2015-08-12T00:00:00+00:00",
          "2015-08-13T00:00:00+00:00",
          "2015-08-13T00:00:00+00:00",
          "2015-08-16T00:00:00+00:00",
          "2015-08-18T00:00:00+00:00",
          "2015-08-18T00:00:00+00:00",
          "2015-08-19T00:00:00+00:00",
          "2015-08-20T00:00:00+00:00",
          "2015-08-20T00:00:00+00:00",
          "2015-08-26T00:00:00+00:00",
          "2015-08-26T00:00:00+00:00",
          "2015-08-28T00:00:00+00:00",
          "2015-08-31T00:00:00+00:00",
          "2015-09-01T00:00:00+00:00",
          "2015-09-04T00:00:00+00:00",
          "2015-09-08T00:00:00+00:00",
          "2015-09-09T00:00:00+00:00",
          "2015-09-10T00:00:00+00:00",
          "2015-09-11T00:00:00+00:00",
          "2015-09-11T00:00:00+00:00",
          "2015-09-12T00:00:00+00:00",
          "2015-09-13T00:00:00+00:00",
          "2015-09-14T00:00:00+00:00",
          "2015-09-16T00:00:00+00:00",
          "2015-09-22T00:00:00+00:00",
          "2015-09-23T00:00:00+00:00",
          "2015-09-23T00:00:00+00:00",
          "2015-09-29T00:00:00+00:00",
          "2015-10-01T00:00:00+00:00",
          "2015-10-05T00:00:00+00:00",
          "2015-10-06T00:00:00+00:00",
          "2015-10-07T00:00:00+00:00",
          "2015-10-14T00:00:00+00:00",
          "2015-10-15T00:00:00+00:00",
          "2015-10-17T00:00:00+00:00",
          "2015-10-20T00:00:00+00:00",
          "2015-10-24T00:00:00+00:00",
          "2015-10-25T00:00:00+00:00",
          "2015-10-27T00:00:00+00:00",
          "2015-10-29T00:00:00+00:00",
          "2015-11-01T00:00:00+00:00",
          "2015-11-07T00:00:00+00:00",
          "2015-11-07T00:00:00+00:00",
          "2015-11-09T00:00:00+00:00",
          "2015-11-12T00:00:00+00:00",
          "2015-11-13T00:00:00+00:00",
          "2015-11-14T00:00:00+00:00",
          "2015-11-15T00:00:00+00:00",
          "2015-11-16T00:00:00+00:00",
          "2015-11-16T00:00:00+00:00",
          "2015-11-19T00:00:00+00:00",
          "2015-11-25T00:00:00+00:00",
          "2015-11-25T00:00:00+00:00",
          "2015-11-27T00:00:00+00:00",
          "2015-12-07T00:00:00+00:00",
          "2015-12-11T00:00:00+00:00",
          "2015-12-11T00:00:00+00:00",
          "2015-12-18T00:00:00+00:00",
          "2015-12-21T00:00:00+00:00",
          "2015-12-27T00:00:00+00:00",
          "2016-01-03T00:00:00+00:00",
          "2016-01-05T00:00:00+00:00",
          "2016-01-06T00:00:00+00:00",
          "2016-01-08T00:00:00+00:00",
          "2016-01-09T00:00:00+00:00",
          "2016-01-10T00:00:00+00:00",
          "2016-01-12T00:00:00+00:00",
          "2016-01-13T00:00:00+00:00",
          "2016-01-16T00:00:00+00:00",
          "2016-01-16T00:00:00+00:00",
          "2016-01-17T00:00:00+00:00",
          "2016-01-18T00:00:00+00:00",
          "2016-01-21T00:00:00+00:00",
          "2016-01-23T00:00:00+00:00",
          "2016-01-23T00:00:00+00:00",
          "2016-01-23T00:00:00+00:00",
          "2016-01-27T00:00:00+00:00",
          "2016-02-01T00:00:00+00:00",
          "2016-02-04T00:00:00+00:00",
          "2016-02-05T00:00:00+00:00",
          "2016-02-06T00:00:00+00:00",
          "2016-02-07T00:00:00+00:00",
          "2016-02-10T00:00:00+00:00",
          "2016-02-12T00:00:00+00:00",
          "2016-02-13T00:00:00+00:00",
          "2016-02-13T00:00:00+00:00",
          "2016-02-18T00:00:00+00:00",
          "2016-02-20T00:00:00+00:00",
          "2016-02-20T00:00:00+00:00",
          "2016-02-21T00:00:00+00:00",
          "2016-02-24T00:00:00+00:00",
          "2016-02-24T00:00:00+00:00",
          "2016-02-24T00:00:00+00:00",
          "2016-02-26T00:00:00+00:00",
          "2016-02-28T00:00:00+00:00",
          "2016-03-01T00:00:00+00:00",
          "2016-03-04T00:00:00+00:00",
          "2016-03-06T00:00:00+00:00",
          "2016-03-19T00:00:00+00:00",
          "2016-03-26T00:00:00+00:00",
          "2016-03-26T00:00:00+00:00",
          "2016-03-28T00:00:00+00:00",
          "2016-03-29T00:00:00+00:00",
          "2016-03-30T00:00:00+00:00",
          "2016-04-06T00:00:00+00:00",
          "2016-04-07T00:00:00+00:00",
          "2016-04-07T00:00:00+00:00",
          "2016-04-07T00:00:00+00:00",
          "2016-04-08T00:00:00+00:00",
          "2016-04-10T00:00:00+00:00",
          "2016-04-10T00:00:00+00:00",
          "2016-04-11T00:00:00+00:00",
          "2016-04-17T00:00:00+00:00",
          "2016-04-18T00:00:00+00:00",
          "2016-04-19T00:00:00+00:00",
          "2016-04-27T00:00:00+00:00",
          "2016-05-02T00:00:00+00:00",
          "2016-05-03T00:00:00+00:00",
          "2016-05-03T00:00:00+00:00",
          "2016-05-04T00:00:00+00:00",
          "2016-05-06T00:00:00+00:00",
          "2016-05-06T00:00:00+00:00",
          "2016-05-07T00:00:00+00:00",
          "2016-05-09T00:00:00+00:00",
          "2016-05-10T00:00:00+00:00",
          "2016-05-10T00:00:00+00:00",
          "2016-05-13T00:00:00+00:00",
          "2016-05-16T00:00:00+00:00",
          "2016-05-20T00:00:00+00:00",
          "2016-05-21T00:00:00+00:00",
          "2016-05-25T00:00:00+00:00",
          "2016-05-26T00:00:00+00:00",
          "2016-05-29T00:00:00+00:00",
          "2016-05-31T00:00:00+00:00",
          "2016-06-03T00:00:00+00:00",
          "2016-06-03T00:00:00+00:00",
          "2016-06-05T00:00:00+00:00",
          "2016-06-05T00:00:00+00:00",
          "2016-06-07T00:00:00+00:00",
          "2016-06-07T00:00:00+00:00",
          "2016-06-08T00:00:00+00:00",
          "2016-06-11T00:00:00+00:00",
          "2016-06-13T00:00:00+00:00",
          "2016-06-15T00:00:00+00:00",
          "2016-06-20T00:00:00+00:00",
          "2016-06-22T00:00:00+00:00",
          "2016-06-22T00:00:00+00:00",
          "2016-06-27T00:00:00+00:00",
          "2016-06-28T00:00:00+00:00",
          "2016-06-29T00:00:00+00:00",
          "2016-06-30T00:00:00+00:00",
          "2016-07-06T00:00:00+00:00",
          "2016-07-07T00:00:00+00:00",
          "2016-07-07T00:00:00+00:00",
          "2016-07-10T00:00:00+00:00",
          "2016-07-18T00:00:00+00:00",
          "2016-07-19T00:00:00+00:00",
          "2016-07-19T00:00:00+00:00",
          "2016-07-25T00:00:00+00:00",
          "2016-07-27T00:00:00+00:00",
          "2016-07-27T00:00:00+00:00",
          "2016-07-27T00:00:00+00:00",
          "2016-07-29T00:00:00+00:00",
          "2016-07-30T00:00:00+00:00",
          "2016-08-02T00:00:00+00:00",
          "2016-08-05T00:00:00+00:00",
          "2016-08-06T00:00:00+00:00",
          "2016-08-11T00:00:00+00:00",
          "2016-08-15T00:00:00+00:00",
          "2016-08-16T00:00:00+00:00",
          "2016-08-17T00:00:00+00:00",
          "2016-08-23T00:00:00+00:00",
          "2016-09-04T00:00:00+00:00",
          "2016-09-05T00:00:00+00:00",
          "2016-09-07T00:00:00+00:00",
          "2016-09-09T00:00:00+00:00",
          "2016-09-16T00:00:00+00:00",
          "2016-09-18T00:00:00+00:00",
          "2016-09-19T00:00:00+00:00",
          "2016-09-19T00:00:00+00:00",
          "2016-09-20T00:00:00+00:00",
          "2016-09-26T00:00:00+00:00",
          "2016-09-27T00:00:00+00:00",
          "2016-09-29T00:00:00+00:00",
          "2016-09-29T00:00:00+00:00",
          "2016-10-04T00:00:00+00:00",
          "2016-10-11T00:00:00+00:00",
          "2016-10-11T00:00:00+00:00",
          "2016-10-15T00:00:00+00:00",
          "2016-10-20T00:00:00+00:00",
          "2016-10-28T00:00:00+00:00",
          "2016-10-29T00:00:00+00:00",
          "2016-10-31T00:00:00+00:00",
          "2016-11-03T00:00:00+00:00",
          "2016-11-06T00:00:00+00:00",
          "2016-11-23T00:00:00+00:00",
          "2016-11-28T00:00:00+00:00",
          "2016-11-29T00:00:00+00:00",
          "2016-11-30T00:00:00+00:00",
          "2016-12-02T00:00:00+00:00",
          "2016-12-04T00:00:00+00:00",
          "2016-12-04T00:00:00+00:00",
          "2016-12-11T00:00:00+00:00",
          "2016-12-14T00:00:00+00:00",
          "2016-12-22T00:00:00+00:00",
          "2016-12-24T00:00:00+00:00",
          "2016-12-24T00:00:00+00:00",
          "2016-12-28T00:00:00+00:00",
          "2016-12-28T00:00:00+00:00",
          "2017-01-02T00:00:00+00:00",
          "2017-01-04T00:00:00+00:00",
          "2017-01-07T00:00:00+00:00",
          "2017-01-13T00:00:00+00:00",
          "2017-01-15T00:00:00+00:00",
          "2017-01-16T00:00:00+00:00",
          "2017-01-16T00:00:00+00:00",
          "2017-01-17T00:00:00+00:00",
          "2017-01-18T00:00:00+00:00",
          "2017-01-18T00:00:00+00:00",
          "2017-01-20T00:00:00+00:00",
          "2017-01-21T00:00:00+00:00",
          "2017-01-24T00:00:00+00:00",
          "2017-01-27T00:00:00+00:00",
          "2017-01-31T00:00:00+00:00",
          "2017-02-06T00:00:00+00:00",
          "2017-02-06T00:00:00+00:00",
          "2017-02-08T00:00:00+00:00",
          "2017-02-11T00:00:00+00:00",
          "2017-02-13T00:00:00+00:00",
          "2017-02-14T00:00:00+00:00",
          "2017-02-16T00:00:00+00:00",
          "2017-02-20T00:00:00+00:00",
          "2017-02-22T00:00:00+00:00",
          "2017-02-25T00:00:00+00:00",
          "2017-02-28T00:00:00+00:00",
          "2017-02-28T00:00:00+00:00",
          "2017-03-01T00:00:00+00:00",
          "2017-03-02T00:00:00+00:00",
          "2017-03-05T00:00:00+00:00",
          "2017-03-06T00:00:00+00:00",
          "2017-03-09T00:00:00+00:00",
          "2017-03-09T00:00:00+00:00",
          "2017-03-10T00:00:00+00:00",
          "2017-03-10T00:00:00+00:00",
          "2017-03-11T00:00:00+00:00",
          "2017-03-12T00:00:00+00:00",
          "2017-03-13T00:00:00+00:00",
          "2017-03-13T00:00:00+00:00",
          "2017-03-14T00:00:00+00:00",
          "2017-03-24T00:00:00+00:00",
          "2017-03-28T00:00:00+00:00",
          "2017-04-01T00:00:00+00:00",
          "2017-04-02T00:00:00+00:00",
          "2017-04-08T00:00:00+00:00",
          "2017-04-08T00:00:00+00:00",
          "2017-04-15T00:00:00+00:00",
          "2017-04-21T00:00:00+00:00",
          "2017-04-24T00:00:00+00:00",
          "2017-04-26T00:00:00+00:00",
          "2017-05-02T00:00:00+00:00",
          "2017-05-04T00:00:00+00:00",
          "2017-05-08T00:00:00+00:00",
          "2017-05-08T00:00:00+00:00",
          "2017-05-18T00:00:00+00:00",
          "2017-05-28T00:00:00+00:00",
          "2017-06-01T00:00:00+00:00",
          "2017-06-05T00:00:00+00:00",
          "2017-06-08T00:00:00+00:00",
          "2017-06-09T00:00:00+00:00",
          "2017-06-11T00:00:00+00:00",
          "2017-06-17T00:00:00+00:00",
          "2017-06-17T00:00:00+00:00",
          "2017-06-20T00:00:00+00:00",
          "2017-06-21T00:00:00+00:00",
          "2017-06-24T00:00:00+00:00",
          "2017-06-25T00:00:00+00:00",
          "2017-06-27T00:00:00+00:00",
          "2017-07-01T00:00:00+00:00",
          "2017-07-02T00:00:00+00:00",
          "2017-07-03T00:00:00+00:00",
          "2017-07-03T00:00:00+00:00",
          "2017-07-04T00:00:00+00:00",
          "2017-07-09T00:00:00+00:00",
          "2017-07-11T00:00:00+00:00",
          "2017-07-12T00:00:00+00:00",
          "2017-07-14T00:00:00+00:00",
          "2017-07-16T00:00:00+00:00",
          "2017-07-16T00:00:00+00:00",
          "2017-07-17T00:00:00+00:00",
          "2017-07-18T00:00:00+00:00",
          "2017-07-25T00:00:00+00:00",
          "2017-07-29T00:00:00+00:00",
          "2017-08-01T00:00:00+00:00",
          "2017-08-06T00:00:00+00:00",
          "2017-08-07T00:00:00+00:00",
          "2017-08-07T00:00:00+00:00",
          "2017-08-08T00:00:00+00:00",
          "2017-08-08T00:00:00+00:00",
          "2017-08-09T00:00:00+00:00",
          "2017-08-14T00:00:00+00:00"
         ],
         "y": [
          548,
          4,
          495,
          121,
          403,
          4,
          138,
          432,
          39,
          360,
          233,
          107,
          344,
          234,
          111,
          375,
          134,
          438,
          169,
          13,
          432,
          92,
          370,
          150,
          4,
          988,
          303,
          114,
          137,
          218,
          53,
          136,
          153,
          49,
          613,
          119,
          88,
          379,
          84,
          192,
          47,
          603,
          289,
          17,
          17,
          89,
          9,
          7,
          138,
          413,
          70,
          234,
          179,
          69,
          662,
          2,
          211,
          54,
          303,
          55,
          200,
          289,
          67,
          153,
          441,
          344,
          94,
          187,
          56,
          395,
          152,
          142,
          136,
          110,
          63,
          513,
          286,
          113,
          34,
          3,
          597,
          238,
          83,
          77,
          56,
          229,
          90,
          464,
          138,
          235,
          135,
          97,
          54,
          194,
          59,
          468,
          201,
          25,
          178,
          220,
          351,
          71,
          153,
          300,
          107,
          145,
          5,
          492,
          97,
          69,
          440,
          51,
          434,
          509,
          2,
          229,
          128,
          414,
          60,
          134,
          60,
          264,
          432,
          52,
          69,
          138,
          105,
          271,
          31,
          393,
          323,
          85,
          41,
          620,
          27,
          52,
          99,
          979,
          324,
          1,
          112,
          76,
          274,
          97,
          443,
          105,
          279,
          125,
          75,
          475,
          206,
          119,
          28,
          143,
          103,
          121,
          114,
          1140,
          47,
          122,
          83,
          286,
          182,
          178,
          343,
          12,
          334,
          209,
          181,
          482,
          131,
          52,
          1030,
          683,
          67,
          322,
          116,
          7,
          193,
          77,
          456,
          277,
          209,
          122,
          46,
          627,
          745,
          8,
          178,
          243,
          209,
          202,
          565,
          2,
          289,
          209,
          484,
          935,
          210,
          270,
          230,
          102,
          100,
          257,
          242,
          35,
          58,
          339,
          139,
          997,
          366,
          529,
          29,
          123,
          97,
          955,
          150,
          133,
          443,
          121,
          387,
          83,
          196,
          221,
          88,
          531,
          456,
          309,
          163,
          164,
          205,
          231,
          38,
          1328,
          191,
          126,
          908,
          109,
          3,
          117,
          267,
          161,
          71,
          3,
          155,
          547,
          74,
          252,
          91,
          510,
          10,
          513,
          512,
          184,
          455,
          300,
          414,
          238,
          112,
          528,
          62,
          163,
          92,
          35,
          81,
          331,
          886,
          139,
          206,
          119,
          70,
          55,
          164,
          78,
          145,
          416,
          203,
          131,
          190,
          410,
          191,
          87,
          128,
          253,
          95,
          90,
          251,
          167,
          367,
          617,
          79,
          397,
          6,
          39,
          8,
          228,
          123,
          142,
          2,
          170,
          465,
          60,
          96,
          180,
          22,
          113,
          147,
          32,
          461,
          223,
          113,
          216,
          230,
          153,
          569,
          187,
          171,
          702,
          131,
          933,
          109,
          117,
          108,
          205,
          819,
          471,
          1,
          270,
          214,
          194,
          465,
          108,
          112,
          14,
          813,
          163,
          188,
          343,
          748,
          543,
          24,
          221,
          1,
          208,
          462,
          52,
          278,
          98,
          227,
          117,
          322,
          34,
          79,
          368,
          128,
          183,
          187,
          704,
          564,
          917,
          142,
          133,
          15,
          584,
          211,
          90,
          235,
          186,
          502,
          377,
          401,
          407,
          228,
          359,
          581,
          65,
          168,
          87,
          1,
          714,
          355,
          204,
          67,
          175,
          0,
          220,
          225,
          199,
          338,
          209,
          207,
          179,
          520,
          71,
          193,
          40,
          200,
          285,
          187,
          682,
          416,
          462,
          116,
          48,
          177,
          115,
          107,
          499,
          627,
          143,
          375,
          107,
          575,
          84,
          241,
          187,
          544,
          95,
          211,
          209,
          622
         ]
        },
        {
         "mode": "lines",
         "name": "Forecast",
         "type": "scatter",
         "x": [
          "2017-08-14T00:00:00+00:00",
          "2017-08-15T00:00:00+00:00",
          "2017-08-16T00:00:00+00:00",
          "2017-08-17T00:00:00+00:00",
          "2017-08-18T00:00:00+00:00",
          "2017-08-19T00:00:00+00:00",
          "2017-08-20T00:00:00+00:00",
          "2017-08-21T00:00:00+00:00",
          "2017-08-22T00:00:00+00:00",
          "2017-08-23T00:00:00+00:00",
          "2017-08-24T00:00:00+00:00",
          "2017-08-25T00:00:00+00:00",
          "2017-08-26T00:00:00+00:00",
          "2017-08-27T00:00:00+00:00",
          "2017-08-28T00:00:00+00:00",
          "2017-08-29T00:00:00+00:00",
          "2017-08-30T00:00:00+00:00",
          "2017-08-31T00:00:00+00:00",
          "2017-09-01T00:00:00+00:00",
          "2017-09-02T00:00:00+00:00",
          "2017-09-03T00:00:00+00:00",
          "2017-09-04T00:00:00+00:00",
          "2017-09-05T00:00:00+00:00",
          "2017-09-06T00:00:00+00:00",
          "2017-09-07T00:00:00+00:00",
          "2017-09-08T00:00:00+00:00",
          "2017-09-09T00:00:00+00:00",
          "2017-09-10T00:00:00+00:00",
          "2017-09-11T00:00:00+00:00",
          "2017-09-12T00:00:00+00:00"
         ],
         "y": [
          null,
          null,
          null,
          null,
          null,
          null,
          null,
          null,
          null,
          null,
          null,
          null,
          null,
          null,
          null,
          null,
          null,
          null,
          null,
          null,
          null,
          null,
          null,
          null,
          null,
          null,
          null,
          null,
          null,
          null
         ]
        }
       ],
       "layout": {
        "autosize": true,
        "template": {
         "data": {
          "bar": [
           {
            "error_x": {
             "color": "#2a3f5f"
            },
            "error_y": {
             "color": "#2a3f5f"
            },
            "marker": {
             "line": {
              "color": "#E5ECF6",
              "width": 0.5
             },
             "pattern": {
              "fillmode": "overlay",
              "size": 10,
              "solidity": 0.2
             }
            },
            "type": "bar"
           }
          ],
          "barpolar": [
           {
            "marker": {
             "line": {
              "color": "#E5ECF6",
              "width": 0.5
             },
             "pattern": {
              "fillmode": "overlay",
              "size": 10,
              "solidity": 0.2
             }
            },
            "type": "barpolar"
           }
          ],
          "carpet": [
           {
            "aaxis": {
             "endlinecolor": "#2a3f5f",
             "gridcolor": "white",
             "linecolor": "white",
             "minorgridcolor": "white",
             "startlinecolor": "#2a3f5f"
            },
            "baxis": {
             "endlinecolor": "#2a3f5f",
             "gridcolor": "white",
             "linecolor": "white",
             "minorgridcolor": "white",
             "startlinecolor": "#2a3f5f"
            },
            "type": "carpet"
           }
          ],
          "choropleth": [
           {
            "colorbar": {
             "outlinewidth": 0,
             "ticks": ""
            },
            "type": "choropleth"
           }
          ],
          "contour": [
           {
            "colorbar": {
             "outlinewidth": 0,
             "ticks": ""
            },
            "colorscale": [
             [
              0,
              "#0d0887"
             ],
             [
              0.1111111111111111,
              "#46039f"
             ],
             [
              0.2222222222222222,
              "#7201a8"
             ],
             [
              0.3333333333333333,
              "#9c179e"
             ],
             [
              0.4444444444444444,
              "#bd3786"
             ],
             [
              0.5555555555555556,
              "#d8576b"
             ],
             [
              0.6666666666666666,
              "#ed7953"
             ],
             [
              0.7777777777777778,
              "#fb9f3a"
             ],
             [
              0.8888888888888888,
              "#fdca26"
             ],
             [
              1,
              "#f0f921"
             ]
            ],
            "type": "contour"
           }
          ],
          "contourcarpet": [
           {
            "colorbar": {
             "outlinewidth": 0,
             "ticks": ""
            },
            "type": "contourcarpet"
           }
          ],
          "heatmap": [
           {
            "colorbar": {
             "outlinewidth": 0,
             "ticks": ""
            },
            "colorscale": [
             [
              0,
              "#0d0887"
             ],
             [
              0.1111111111111111,
              "#46039f"
             ],
             [
              0.2222222222222222,
              "#7201a8"
             ],
             [
              0.3333333333333333,
              "#9c179e"
             ],
             [
              0.4444444444444444,
              "#bd3786"
             ],
             [
              0.5555555555555556,
              "#d8576b"
             ],
             [
              0.6666666666666666,
              "#ed7953"
             ],
             [
              0.7777777777777778,
              "#fb9f3a"
             ],
             [
              0.8888888888888888,
              "#fdca26"
             ],
             [
              1,
              "#f0f921"
             ]
            ],
            "type": "heatmap"
           }
          ],
          "heatmapgl": [
           {
            "colorbar": {
             "outlinewidth": 0,
             "ticks": ""
            },
            "colorscale": [
             [
              0,
              "#0d0887"
             ],
             [
              0.1111111111111111,
              "#46039f"
             ],
             [
              0.2222222222222222,
              "#7201a8"
             ],
             [
              0.3333333333333333,
              "#9c179e"
             ],
             [
              0.4444444444444444,
              "#bd3786"
             ],
             [
              0.5555555555555556,
              "#d8576b"
             ],
             [
              0.6666666666666666,
              "#ed7953"
             ],
             [
              0.7777777777777778,
              "#fb9f3a"
             ],
             [
              0.8888888888888888,
              "#fdca26"
             ],
             [
              1,
              "#f0f921"
             ]
            ],
            "type": "heatmapgl"
           }
          ],
          "histogram": [
           {
            "marker": {
             "pattern": {
              "fillmode": "overlay",
              "size": 10,
              "solidity": 0.2
             }
            },
            "type": "histogram"
           }
          ],
          "histogram2d": [
           {
            "colorbar": {
             "outlinewidth": 0,
             "ticks": ""
            },
            "colorscale": [
             [
              0,
              "#0d0887"
             ],
             [
              0.1111111111111111,
              "#46039f"
             ],
             [
              0.2222222222222222,
              "#7201a8"
             ],
             [
              0.3333333333333333,
              "#9c179e"
             ],
             [
              0.4444444444444444,
              "#bd3786"
             ],
             [
              0.5555555555555556,
              "#d8576b"
             ],
             [
              0.6666666666666666,
              "#ed7953"
             ],
             [
              0.7777777777777778,
              "#fb9f3a"
             ],
             [
              0.8888888888888888,
              "#fdca26"
             ],
             [
              1,
              "#f0f921"
             ]
            ],
            "type": "histogram2d"
           }
          ],
          "histogram2dcontour": [
           {
            "colorbar": {
             "outlinewidth": 0,
             "ticks": ""
            },
            "colorscale": [
             [
              0,
              "#0d0887"
             ],
             [
              0.1111111111111111,
              "#46039f"
             ],
             [
              0.2222222222222222,
              "#7201a8"
             ],
             [
              0.3333333333333333,
              "#9c179e"
             ],
             [
              0.4444444444444444,
              "#bd3786"
             ],
             [
              0.5555555555555556,
              "#d8576b"
             ],
             [
              0.6666666666666666,
              "#ed7953"
             ],
             [
              0.7777777777777778,
              "#fb9f3a"
             ],
             [
              0.8888888888888888,
              "#fdca26"
             ],
             [
              1,
              "#f0f921"
             ]
            ],
            "type": "histogram2dcontour"
           }
          ],
          "mesh3d": [
           {
            "colorbar": {
             "outlinewidth": 0,
             "ticks": ""
            },
            "type": "mesh3d"
           }
          ],
          "parcoords": [
           {
            "line": {
             "colorbar": {
              "outlinewidth": 0,
              "ticks": ""
             }
            },
            "type": "parcoords"
           }
          ],
          "pie": [
           {
            "automargin": true,
            "type": "pie"
           }
          ],
          "scatter": [
           {
            "fillpattern": {
             "fillmode": "overlay",
             "size": 10,
             "solidity": 0.2
            },
            "type": "scatter"
           }
          ],
          "scatter3d": [
           {
            "line": {
             "colorbar": {
              "outlinewidth": 0,
              "ticks": ""
             }
            },
            "marker": {
             "colorbar": {
              "outlinewidth": 0,
              "ticks": ""
             }
            },
            "type": "scatter3d"
           }
          ],
          "scattercarpet": [
           {
            "marker": {
             "colorbar": {
              "outlinewidth": 0,
              "ticks": ""
             }
            },
            "type": "scattercarpet"
           }
          ],
          "scattergeo": [
           {
            "marker": {
             "colorbar": {
              "outlinewidth": 0,
              "ticks": ""
             }
            },
            "type": "scattergeo"
           }
          ],
          "scattergl": [
           {
            "marker": {
             "colorbar": {
              "outlinewidth": 0,
              "ticks": ""
             }
            },
            "type": "scattergl"
           }
          ],
          "scattermapbox": [
           {
            "marker": {
             "colorbar": {
              "outlinewidth": 0,
              "ticks": ""
             }
            },
            "type": "scattermapbox"
           }
          ],
          "scatterpolar": [
           {
            "marker": {
             "colorbar": {
              "outlinewidth": 0,
              "ticks": ""
             }
            },
            "type": "scatterpolar"
           }
          ],
          "scatterpolargl": [
           {
            "marker": {
             "colorbar": {
              "outlinewidth": 0,
              "ticks": ""
             }
            },
            "type": "scatterpolargl"
           }
          ],
          "scatterternary": [
           {
            "marker": {
             "colorbar": {
              "outlinewidth": 0,
              "ticks": ""
             }
            },
            "type": "scatterternary"
           }
          ],
          "surface": [
           {
            "colorbar": {
             "outlinewidth": 0,
             "ticks": ""
            },
            "colorscale": [
             [
              0,
              "#0d0887"
             ],
             [
              0.1111111111111111,
              "#46039f"
             ],
             [
              0.2222222222222222,
              "#7201a8"
             ],
             [
              0.3333333333333333,
              "#9c179e"
             ],
             [
              0.4444444444444444,
              "#bd3786"
             ],
             [
              0.5555555555555556,
              "#d8576b"
             ],
             [
              0.6666666666666666,
              "#ed7953"
             ],
             [
              0.7777777777777778,
              "#fb9f3a"
             ],
             [
              0.8888888888888888,
              "#fdca26"
             ],
             [
              1,
              "#f0f921"
             ]
            ],
            "type": "surface"
           }
          ],
          "table": [
           {
            "cells": {
             "fill": {
              "color": "#EBF0F8"
             },
             "line": {
              "color": "white"
             }
            },
            "header": {
             "fill": {
              "color": "#C8D4E3"
             },
             "line": {
              "color": "white"
             }
            },
            "type": "table"
           }
          ]
         },
         "layout": {
          "annotationdefaults": {
           "arrowcolor": "#2a3f5f",
           "arrowhead": 0,
           "arrowwidth": 1
          },
          "autotypenumbers": "strict",
          "coloraxis": {
           "colorbar": {
            "outlinewidth": 0,
            "ticks": ""
           }
          },
          "colorscale": {
           "diverging": [
            [
             0,
             "#8e0152"
            ],
            [
             0.1,
             "#c51b7d"
            ],
            [
             0.2,
             "#de77ae"
            ],
            [
             0.3,
             "#f1b6da"
            ],
            [
             0.4,
             "#fde0ef"
            ],
            [
             0.5,
             "#f7f7f7"
            ],
            [
             0.6,
             "#e6f5d0"
            ],
            [
             0.7,
             "#b8e186"
            ],
            [
             0.8,
             "#7fbc41"
            ],
            [
             0.9,
             "#4d9221"
            ],
            [
             1,
             "#276419"
            ]
           ],
           "sequential": [
            [
             0,
             "#0d0887"
            ],
            [
             0.1111111111111111,
             "#46039f"
            ],
            [
             0.2222222222222222,
             "#7201a8"
            ],
            [
             0.3333333333333333,
             "#9c179e"
            ],
            [
             0.4444444444444444,
             "#bd3786"
            ],
            [
             0.5555555555555556,
             "#d8576b"
            ],
            [
             0.6666666666666666,
             "#ed7953"
            ],
            [
             0.7777777777777778,
             "#fb9f3a"
            ],
            [
             0.8888888888888888,
             "#fdca26"
            ],
            [
             1,
             "#f0f921"
            ]
           ],
           "sequentialminus": [
            [
             0,
             "#0d0887"
            ],
            [
             0.1111111111111111,
             "#46039f"
            ],
            [
             0.2222222222222222,
             "#7201a8"
            ],
            [
             0.3333333333333333,
             "#9c179e"
            ],
            [
             0.4444444444444444,
             "#bd3786"
            ],
            [
             0.5555555555555556,
             "#d8576b"
            ],
            [
             0.6666666666666666,
             "#ed7953"
            ],
            [
             0.7777777777777778,
             "#fb9f3a"
            ],
            [
             0.8888888888888888,
             "#fdca26"
            ],
            [
             1,
             "#f0f921"
            ]
           ]
          },
          "colorway": [
           "#636efa",
           "#EF553B",
           "#00cc96",
           "#ab63fa",
           "#FFA15A",
           "#19d3f3",
           "#FF6692",
           "#B6E880",
           "#FF97FF",
           "#FECB52"
          ],
          "font": {
           "color": "#2a3f5f"
          },
          "geo": {
           "bgcolor": "white",
           "lakecolor": "white",
           "landcolor": "#E5ECF6",
           "showlakes": true,
           "showland": true,
           "subunitcolor": "white"
          },
          "hoverlabel": {
           "align": "left"
          },
          "hovermode": "closest",
          "mapbox": {
           "style": "light"
          },
          "paper_bgcolor": "white",
          "plot_bgcolor": "#E5ECF6",
          "polar": {
           "angularaxis": {
            "gridcolor": "white",
            "linecolor": "white",
            "ticks": ""
           },
           "bgcolor": "#E5ECF6",
           "radialaxis": {
            "gridcolor": "white",
            "linecolor": "white",
            "ticks": ""
           }
          },
          "scene": {
           "xaxis": {
            "backgroundcolor": "#E5ECF6",
            "gridcolor": "white",
            "gridwidth": 2,
            "linecolor": "white",
            "showbackground": true,
            "ticks": "",
            "zerolinecolor": "white"
           },
           "yaxis": {
            "backgroundcolor": "#E5ECF6",
            "gridcolor": "white",
            "gridwidth": 2,
            "linecolor": "white",
            "showbackground": true,
            "ticks": "",
            "zerolinecolor": "white"
           },
           "zaxis": {
            "backgroundcolor": "#E5ECF6",
            "gridcolor": "white",
            "gridwidth": 2,
            "linecolor": "white",
            "showbackground": true,
            "ticks": "",
            "zerolinecolor": "white"
           }
          },
          "shapedefaults": {
           "line": {
            "color": "#2a3f5f"
           }
          },
          "ternary": {
           "aaxis": {
            "gridcolor": "white",
            "linecolor": "white",
            "ticks": ""
           },
           "baxis": {
            "gridcolor": "white",
            "linecolor": "white",
            "ticks": ""
           },
           "bgcolor": "#E5ECF6",
           "caxis": {
            "gridcolor": "white",
            "linecolor": "white",
            "ticks": ""
           }
          },
          "title": {
           "x": 0.05
          },
          "xaxis": {
           "automargin": true,
           "gridcolor": "white",
           "linecolor": "white",
           "ticks": "",
           "title": {
            "standoff": 15
           },
           "zerolinecolor": "white",
           "zerolinewidth": 2
          },
          "yaxis": {
           "automargin": true,
           "gridcolor": "white",
           "linecolor": "white",
           "ticks": "",
           "title": {
            "standoff": 15
           },
           "zerolinecolor": "white",
           "zerolinewidth": 2
          }
         }
        },
        "title": {
         "text": "Forecast for Item Number: 1503844"
        },
        "xaxis": {
         "autorange": true,
         "range": [
          "2014-01-02",
          "2017-09-12"
         ],
         "title": {
          "text": "Date"
         },
         "type": "date"
        },
        "yaxis": {
         "autorange": true,
         "range": [
          -73.77777777777779,
          1401.7777777777778
         ],
         "title": {
          "text": "Unit Sales"
         },
         "type": "linear"
        }
       }
      },
      "image/png": "[encoded data removed]",
      "text/html": [
       "<div>                            <div id=\"afd7bc5f-c618-42f2-a73a-38fffc2ea130\" class=\"plotly-graph-div\" style=\"height:525px; width:100%;\"></div>            <script type=\"text/javascript\">                require([\"plotly\"], function(Plotly) {                    window.PLOTLYENV=window.PLOTLYENV || {};                                    if (document.getElementById(\"afd7bc5f-c618-42f2-a73a-38fffc2ea130\")) {                    Plotly.newPlot(                        \"afd7bc5f-c618-42f2-a73a-38fffc2ea130\",                        [{\"mode\":\"lines\",\"name\":\"Actual\",\"x\":[\"2014-01-02T00:00:00+00:00\",\"2014-01-04T00:00:00+00:00\",\"2014-01-08T00:00:00+00:00\",\"2014-01-09T00:00:00+00:00\",\"2014-01-09T00:00:00+00:00\",\"2014-01-14T00:00:00+00:00\",\"2014-01-15T00:00:00+00:00\",\"2014-01-19T00:00:00+00:00\",\"2014-01-20T00:00:00+00:00\",\"2014-01-23T00:00:00+00:00\",\"2014-01-25T00:00:00+00:00\",\"2014-01-30T00:00:00+00:00\",\"2014-03-02T00:00:00+00:00\",\"2014-03-05T00:00:00+00:00\",\"2014-03-08T00:00:00+00:00\",\"2014-03-09T00:00:00+00:00\",\"2014-03-10T00:00:00+00:00\",\"2014-03-10T00:00:00+00:00\",\"2014-03-14T00:00:00+00:00\",\"2014-03-16T00:00:00+00:00\",\"2014-03-19T00:00:00+00:00\",\"2014-03-22T00:00:00+00:00\",\"2014-03-23T00:00:00+00:00\",\"2014-03-25T00:00:00+00:00\",\"2014-03-25T00:00:00+00:00\",\"2014-03-29T00:00:00+00:00\",\"2014-07-03T00:00:00+00:00\",\"2014-07-04T00:00:00+00:00\",\"2014-07-11T00:00:00+00:00\",\"2014-07-13T00:00:00+00:00\",\"2014-07-14T00:00:00+00:00\",\"2014-07-14T00:00:00+00:00\",\"2014-07-16T00:00:00+00:00\",\"2014-07-24T00:00:00+00:00\",\"2014-07-29T00:00:00+00:00\",\"2014-07-30T00:00:00+00:00\",\"2014-09-01T00:00:00+00:00\",\"2014-09-02T00:00:00+00:00\",\"2014-09-05T00:00:00+00:00\",\"2014-09-08T00:00:00+00:00\",\"2014-09-08T00:00:00+00:00\",\"2014-09-11T00:00:00+00:00\",\"2014-09-18T00:00:00+00:00\",\"2014-09-20T00:00:00+00:00\",\"2014-09-20T00:00:00+00:00\",\"2014-09-20T00:00:00+00:00\",\"2014-09-23T00:00:00+00:00\",\"2014-09-23T00:00:00+00:00\",\"2014-09-26T00:00:00+00:00\",\"2014-09-29T00:00:00+00:00\",\"2014-10-02T00:00:00+00:00\",\"2014-10-04T00:00:00+00:00\",\"2014-10-06T00:00:00+00:00\",\"2014-10-14T00:00:00+00:00\",\"2014-10-15T00:00:00+00:00\",\"2014-10-17T00:00:00+00:00\",\"2014-10-18T00:00:00+00:00\",\"2014-10-18T00:00:00+00:00\",\"2014-10-23T00:00:00+00:00\",\"2014-10-27T00:00:00+00:00\",\"2014-11-02T00:00:00+00:00\",\"2014-11-03T00:00:00+00:00\",\"2014-11-06T00:00:00+00:00\",\"2014-11-06T00:00:00+00:00\",\"2014-11-07T00:00:00+00:00\",\"2014-11-09T00:00:00+00:00\",\"2014-11-11T00:00:00+00:00\",\"2014-11-12T00:00:00+00:00\",\"2014-11-12T00:00:00+00:00\",\"2014-11-13T00:00:00+00:00\",\"2014-11-14T00:00:00+00:00\",\"2014-11-25T00:00:00+00:00\",\"2014-11-27T00:00:00+00:00\",\"2014-11-28T00:00:00+00:00\",\"2014-12-01T00:00:00+00:00\",\"2014-12-05T00:00:00+00:00\",\"2014-12-06T00:00:00+00:00\",\"2014-12-06T00:00:00+00:00\",\"2014-12-08T00:00:00+00:00\",\"2014-12-12T00:00:00+00:00\",\"2014-12-15T00:00:00+00:00\",\"2014-12-16T00:00:00+00:00\",\"2014-12-16T00:00:00+00:00\",\"2014-12-16T00:00:00+00:00\",\"2014-12-18T00:00:00+00:00\",\"2014-12-19T00:00:00+00:00\",\"2014-12-20T00:00:00+00:00\",\"2014-12-23T00:00:00+00:00\",\"2014-12-24T00:00:00+00:00\",\"2014-12-26T00:00:00+00:00\",\"2014-12-27T00:00:00+00:00\",\"2015-06-08T00:00:00+00:00\",\"2015-06-11T00:00:00+00:00\",\"2015-06-14T00:00:00+00:00\",\"2015-06-18T00:00:00+00:00\",\"2015-06-19T00:00:00+00:00\",\"2015-06-21T00:00:00+00:00\",\"2015-06-21T00:00:00+00:00\",\"2015-06-21T00:00:00+00:00\",\"2015-06-22T00:00:00+00:00\",\"2015-06-23T00:00:00+00:00\",\"2015-07-03T00:00:00+00:00\",\"2015-07-05T00:00:00+00:00\",\"2015-07-07T00:00:00+00:00\",\"2015-07-10T00:00:00+00:00\",\"2015-07-15T00:00:00+00:00\",\"2015-07-16T00:00:00+00:00\",\"2015-07-17T00:00:00+00:00\",\"2015-07-17T00:00:00+00:00\",\"2015-07-19T00:00:00+00:00\",\"2015-07-20T00:00:00+00:00\",\"2015-07-21T00:00:00+00:00\",\"2015-07-21T00:00:00+00:00\",\"2015-07-22T00:00:00+00:00\",\"2015-07-24T00:00:00+00:00\",\"2015-07-26T00:00:00+00:00\",\"2015-07-30T00:00:00+00:00\",\"2015-07-31T00:00:00+00:00\",\"2015-08-01T00:00:00+00:00\",\"2015-08-01T00:00:00+00:00\",\"2015-08-04T00:00:00+00:00\",\"2015-08-12T00:00:00+00:00\",\"2015-08-13T00:00:00+00:00\",\"2015-08-13T00:00:00+00:00\",\"2015-08-16T00:00:00+00:00\",\"2015-08-18T00:00:00+00:00\",\"2015-08-18T00:00:00+00:00\",\"2015-08-19T00:00:00+00:00\",\"2015-08-20T00:00:00+00:00\",\"2015-08-20T00:00:00+00:00\",\"2015-08-26T00:00:00+00:00\",\"2015-08-26T00:00:00+00:00\",\"2015-08-28T00:00:00+00:00\",\"2015-08-31T00:00:00+00:00\",\"2015-09-01T00:00:00+00:00\",\"2015-09-04T00:00:00+00:00\",\"2015-09-08T00:00:00+00:00\",\"2015-09-09T00:00:00+00:00\",\"2015-09-10T00:00:00+00:00\",\"2015-09-11T00:00:00+00:00\",\"2015-09-11T00:00:00+00:00\",\"2015-09-12T00:00:00+00:00\",\"2015-09-13T00:00:00+00:00\",\"2015-09-14T00:00:00+00:00\",\"2015-09-16T00:00:00+00:00\",\"2015-09-22T00:00:00+00:00\",\"2015-09-23T00:00:00+00:00\",\"2015-09-23T00:00:00+00:00\",\"2015-09-29T00:00:00+00:00\",\"2015-10-01T00:00:00+00:00\",\"2015-10-05T00:00:00+00:00\",\"2015-10-06T00:00:00+00:00\",\"2015-10-07T00:00:00+00:00\",\"2015-10-14T00:00:00+00:00\",\"2015-10-15T00:00:00+00:00\",\"2015-10-17T00:00:00+00:00\",\"2015-10-20T00:00:00+00:00\",\"2015-10-24T00:00:00+00:00\",\"2015-10-25T00:00:00+00:00\",\"2015-10-27T00:00:00+00:00\",\"2015-10-29T00:00:00+00:00\",\"2015-11-01T00:00:00+00:00\",\"2015-11-07T00:00:00+00:00\",\"2015-11-07T00:00:00+00:00\",\"2015-11-09T00:00:00+00:00\",\"2015-11-12T00:00:00+00:00\",\"2015-11-13T00:00:00+00:00\",\"2015-11-14T00:00:00+00:00\",\"2015-11-15T00:00:00+00:00\",\"2015-11-16T00:00:00+00:00\",\"2015-11-16T00:00:00+00:00\",\"2015-11-19T00:00:00+00:00\",\"2015-11-25T00:00:00+00:00\",\"2015-11-25T00:00:00+00:00\",\"2015-11-27T00:00:00+00:00\",\"2015-12-07T00:00:00+00:00\",\"2015-12-11T00:00:00+00:00\",\"2015-12-11T00:00:00+00:00\",\"2015-12-18T00:00:00+00:00\",\"2015-12-21T00:00:00+00:00\",\"2015-12-27T00:00:00+00:00\",\"2016-01-03T00:00:00+00:00\",\"2016-01-05T00:00:00+00:00\",\"2016-01-06T00:00:00+00:00\",\"2016-01-08T00:00:00+00:00\",\"2016-01-09T00:00:00+00:00\",\"2016-01-10T00:00:00+00:00\",\"2016-01-12T00:00:00+00:00\",\"2016-01-13T00:00:00+00:00\",\"2016-01-16T00:00:00+00:00\",\"2016-01-16T00:00:00+00:00\",\"2016-01-17T00:00:00+00:00\",\"2016-01-18T00:00:00+00:00\",\"2016-01-21T00:00:00+00:00\",\"2016-01-23T00:00:00+00:00\",\"2016-01-23T00:00:00+00:00\",\"2016-01-23T00:00:00+00:00\",\"2016-01-27T00:00:00+00:00\",\"2016-02-01T00:00:00+00:00\",\"2016-02-04T00:00:00+00:00\",\"2016-02-05T00:00:00+00:00\",\"2016-02-06T00:00:00+00:00\",\"2016-02-07T00:00:00+00:00\",\"2016-02-10T00:00:00+00:00\",\"2016-02-12T00:00:00+00:00\",\"2016-02-13T00:00:00+00:00\",\"2016-02-13T00:00:00+00:00\",\"2016-02-18T00:00:00+00:00\",\"2016-02-20T00:00:00+00:00\",\"2016-02-20T00:00:00+00:00\",\"2016-02-21T00:00:00+00:00\",\"2016-02-24T00:00:00+00:00\",\"2016-02-24T00:00:00+00:00\",\"2016-02-24T00:00:00+00:00\",\"2016-02-26T00:00:00+00:00\",\"2016-02-28T00:00:00+00:00\",\"2016-03-01T00:00:00+00:00\",\"2016-03-04T00:00:00+00:00\",\"2016-03-06T00:00:00+00:00\",\"2016-03-19T00:00:00+00:00\",\"2016-03-26T00:00:00+00:00\",\"2016-03-26T00:00:00+00:00\",\"2016-03-28T00:00:00+00:00\",\"2016-03-29T00:00:00+00:00\",\"2016-03-30T00:00:00+00:00\",\"2016-04-06T00:00:00+00:00\",\"2016-04-07T00:00:00+00:00\",\"2016-04-07T00:00:00+00:00\",\"2016-04-07T00:00:00+00:00\",\"2016-04-08T00:00:00+00:00\",\"2016-04-10T00:00:00+00:00\",\"2016-04-10T00:00:00+00:00\",\"2016-04-11T00:00:00+00:00\",\"2016-04-17T00:00:00+00:00\",\"2016-04-18T00:00:00+00:00\",\"2016-04-19T00:00:00+00:00\",\"2016-04-27T00:00:00+00:00\",\"2016-05-02T00:00:00+00:00\",\"2016-05-03T00:00:00+00:00\",\"2016-05-03T00:00:00+00:00\",\"2016-05-04T00:00:00+00:00\",\"2016-05-06T00:00:00+00:00\",\"2016-05-06T00:00:00+00:00\",\"2016-05-07T00:00:00+00:00\",\"2016-05-09T00:00:00+00:00\",\"2016-05-10T00:00:00+00:00\",\"2016-05-10T00:00:00+00:00\",\"2016-05-13T00:00:00+00:00\",\"2016-05-16T00:00:00+00:00\",\"2016-05-20T00:00:00+00:00\",\"2016-05-21T00:00:00+00:00\",\"2016-05-25T00:00:00+00:00\",\"2016-05-26T00:00:00+00:00\",\"2016-05-29T00:00:00+00:00\",\"2016-05-31T00:00:00+00:00\",\"2016-06-03T00:00:00+00:00\",\"2016-06-03T00:00:00+00:00\",\"2016-06-05T00:00:00+00:00\",\"2016-06-05T00:00:00+00:00\",\"2016-06-07T00:00:00+00:00\",\"2016-06-07T00:00:00+00:00\",\"2016-06-08T00:00:00+00:00\",\"2016-06-11T00:00:00+00:00\",\"2016-06-13T00:00:00+00:00\",\"2016-06-15T00:00:00+00:00\",\"2016-06-20T00:00:00+00:00\",\"2016-06-22T00:00:00+00:00\",\"2016-06-22T00:00:00+00:00\",\"2016-06-27T00:00:00+00:00\",\"2016-06-28T00:00:00+00:00\",\"2016-06-29T00:00:00+00:00\",\"2016-06-30T00:00:00+00:00\",\"2016-07-06T00:00:00+00:00\",\"2016-07-07T00:00:00+00:00\",\"2016-07-07T00:00:00+00:00\",\"2016-07-10T00:00:00+00:00\",\"2016-07-18T00:00:00+00:00\",\"2016-07-19T00:00:00+00:00\",\"2016-07-19T00:00:00+00:00\",\"2016-07-25T00:00:00+00:00\",\"2016-07-27T00:00:00+00:00\",\"2016-07-27T00:00:00+00:00\",\"2016-07-27T00:00:00+00:00\",\"2016-07-29T00:00:00+00:00\",\"2016-07-30T00:00:00+00:00\",\"2016-08-02T00:00:00+00:00\",\"2016-08-05T00:00:00+00:00\",\"2016-08-06T00:00:00+00:00\",\"2016-08-11T00:00:00+00:00\",\"2016-08-15T00:00:00+00:00\",\"2016-08-16T00:00:00+00:00\",\"2016-08-17T00:00:00+00:00\",\"2016-08-23T00:00:00+00:00\",\"2016-09-04T00:00:00+00:00\",\"2016-09-05T00:00:00+00:00\",\"2016-09-07T00:00:00+00:00\",\"2016-09-09T00:00:00+00:00\",\"2016-09-16T00:00:00+00:00\",\"2016-09-18T00:00:00+00:00\",\"2016-09-19T00:00:00+00:00\",\"2016-09-19T00:00:00+00:00\",\"2016-09-20T00:00:00+00:00\",\"2016-09-26T00:00:00+00:00\",\"2016-09-27T00:00:00+00:00\",\"2016-09-29T00:00:00+00:00\",\"2016-09-29T00:00:00+00:00\",\"2016-10-04T00:00:00+00:00\",\"2016-10-11T00:00:00+00:00\",\"2016-10-11T00:00:00+00:00\",\"2016-10-15T00:00:00+00:00\",\"2016-10-20T00:00:00+00:00\",\"2016-10-28T00:00:00+00:00\",\"2016-10-29T00:00:00+00:00\",\"2016-10-31T00:00:00+00:00\",\"2016-11-03T00:00:00+00:00\",\"2016-11-06T00:00:00+00:00\",\"2016-11-23T00:00:00+00:00\",\"2016-11-28T00:00:00+00:00\",\"2016-11-29T00:00:00+00:00\",\"2016-11-30T00:00:00+00:00\",\"2016-12-02T00:00:00+00:00\",\"2016-12-04T00:00:00+00:00\",\"2016-12-04T00:00:00+00:00\",\"2016-12-11T00:00:00+00:00\",\"2016-12-14T00:00:00+00:00\",\"2016-12-22T00:00:00+00:00\",\"2016-12-24T00:00:00+00:00\",\"2016-12-24T00:00:00+00:00\",\"2016-12-28T00:00:00+00:00\",\"2016-12-28T00:00:00+00:00\",\"2017-01-02T00:00:00+00:00\",\"2017-01-04T00:00:00+00:00\",\"2017-01-07T00:00:00+00:00\",\"2017-01-13T00:00:00+00:00\",\"2017-01-15T00:00:00+00:00\",\"2017-01-16T00:00:00+00:00\",\"2017-01-16T00:00:00+00:00\",\"2017-01-17T00:00:00+00:00\",\"2017-01-18T00:00:00+00:00\",\"2017-01-18T00:00:00+00:00\",\"2017-01-20T00:00:00+00:00\",\"2017-01-21T00:00:00+00:00\",\"2017-01-24T00:00:00+00:00\",\"2017-01-27T00:00:00+00:00\",\"2017-01-31T00:00:00+00:00\",\"2017-02-06T00:00:00+00:00\",\"2017-02-06T00:00:00+00:00\",\"2017-02-08T00:00:00+00:00\",\"2017-02-11T00:00:00+00:00\",\"2017-02-13T00:00:00+00:00\",\"2017-02-14T00:00:00+00:00\",\"2017-02-16T00:00:00+00:00\",\"2017-02-20T00:00:00+00:00\",\"2017-02-22T00:00:00+00:00\",\"2017-02-25T00:00:00+00:00\",\"2017-02-28T00:00:00+00:00\",\"2017-02-28T00:00:00+00:00\",\"2017-03-01T00:00:00+00:00\",\"2017-03-02T00:00:00+00:00\",\"2017-03-05T00:00:00+00:00\",\"2017-03-06T00:00:00+00:00\",\"2017-03-09T00:00:00+00:00\",\"2017-03-09T00:00:00+00:00\",\"2017-03-10T00:00:00+00:00\",\"2017-03-10T00:00:00+00:00\",\"2017-03-11T00:00:00+00:00\",\"2017-03-12T00:00:00+00:00\",\"2017-03-13T00:00:00+00:00\",\"2017-03-13T00:00:00+00:00\",\"2017-03-14T00:00:00+00:00\",\"2017-03-24T00:00:00+00:00\",\"2017-03-28T00:00:00+00:00\",\"2017-04-01T00:00:00+00:00\",\"2017-04-02T00:00:00+00:00\",\"2017-04-08T00:00:00+00:00\",\"2017-04-08T00:00:00+00:00\",\"2017-04-15T00:00:00+00:00\",\"2017-04-21T00:00:00+00:00\",\"2017-04-24T00:00:00+00:00\",\"2017-04-26T00:00:00+00:00\",\"2017-05-02T00:00:00+00:00\",\"2017-05-04T00:00:00+00:00\",\"2017-05-08T00:00:00+00:00\",\"2017-05-08T00:00:00+00:00\",\"2017-05-18T00:00:00+00:00\",\"2017-05-28T00:00:00+00:00\",\"2017-06-01T00:00:00+00:00\",\"2017-06-05T00:00:00+00:00\",\"2017-06-08T00:00:00+00:00\",\"2017-06-09T00:00:00+00:00\",\"2017-06-11T00:00:00+00:00\",\"2017-06-17T00:00:00+00:00\",\"2017-06-17T00:00:00+00:00\",\"2017-06-20T00:00:00+00:00\",\"2017-06-21T00:00:00+00:00\",\"2017-06-24T00:00:00+00:00\",\"2017-06-25T00:00:00+00:00\",\"2017-06-27T00:00:00+00:00\",\"2017-07-01T00:00:00+00:00\",\"2017-07-02T00:00:00+00:00\",\"2017-07-03T00:00:00+00:00\",\"2017-07-03T00:00:00+00:00\",\"2017-07-04T00:00:00+00:00\",\"2017-07-09T00:00:00+00:00\",\"2017-07-11T00:00:00+00:00\",\"2017-07-12T00:00:00+00:00\",\"2017-07-14T00:00:00+00:00\",\"2017-07-16T00:00:00+00:00\",\"2017-07-16T00:00:00+00:00\",\"2017-07-17T00:00:00+00:00\",\"2017-07-18T00:00:00+00:00\",\"2017-07-25T00:00:00+00:00\",\"2017-07-29T00:00:00+00:00\",\"2017-08-01T00:00:00+00:00\",\"2017-08-06T00:00:00+00:00\",\"2017-08-07T00:00:00+00:00\",\"2017-08-07T00:00:00+00:00\",\"2017-08-08T00:00:00+00:00\",\"2017-08-08T00:00:00+00:00\",\"2017-08-09T00:00:00+00:00\",\"2017-08-14T00:00:00+00:00\"],\"y\":[548,4,495,121,403,4,138,432,39,360,233,107,344,234,111,375,134,438,169,13,432,92,370,150,4,988,303,114,137,218,53,136,153,49,613,119,88,379,84,192,47,603,289,17,17,89,9,7,138,413,70,234,179,69,662,2,211,54,303,55,200,289,67,153,441,344,94,187,56,395,152,142,136,110,63,513,286,113,34,3,597,238,83,77,56,229,90,464,138,235,135,97,54,194,59,468,201,25,178,220,351,71,153,300,107,145,5,492,97,69,440,51,434,509,2,229,128,414,60,134,60,264,432,52,69,138,105,271,31,393,323,85,41,620,27,52,99,979,324,1,112,76,274,97,443,105,279,125,75,475,206,119,28,143,103,121,114,1140,47,122,83,286,182,178,343,12,334,209,181,482,131,52,1030,683,67,322,116,7,193,77,456,277,209,122,46,627,745,8,178,243,209,202,565,2,289,209,484,935,210,270,230,102,100,257,242,35,58,339,139,997,366,529,29,123,97,955,150,133,443,121,387,83,196,221,88,531,456,309,163,164,205,231,38,1328,191,126,908,109,3,117,267,161,71,3,155,547,74,252,91,510,10,513,512,184,455,300,414,238,112,528,62,163,92,35,81,331,886,139,206,119,70,55,164,78,145,416,203,131,190,410,191,87,128,253,95,90,251,167,367,617,79,397,6,39,8,228,123,142,2,170,465,60,96,180,22,113,147,32,461,223,113,216,230,153,569,187,171,702,131,933,109,117,108,205,819,471,1,270,214,194,465,108,112,14,813,163,188,343,748,543,24,221,1,208,462,52,278,98,227,117,322,34,79,368,128,183,187,704,564,917,142,133,15,584,211,90,235,186,502,377,401,407,228,359,581,65,168,87,1,714,355,204,67,175,0,220,225,199,338,209,207,179,520,71,193,40,200,285,187,682,416,462,116,48,177,115,107,499,627,143,375,107,575,84,241,187,544,95,211,209,622],\"type\":\"scatter\"},{\"mode\":\"lines\",\"name\":\"Forecast\",\"x\":[\"2017-08-14T00:00:00+00:00\",\"2017-08-15T00:00:00+00:00\",\"2017-08-16T00:00:00+00:00\",\"2017-08-17T00:00:00+00:00\",\"2017-08-18T00:00:00+00:00\",\"2017-08-19T00:00:00+00:00\",\"2017-08-20T00:00:00+00:00\",\"2017-08-21T00:00:00+00:00\",\"2017-08-22T00:00:00+00:00\",\"2017-08-23T00:00:00+00:00\",\"2017-08-24T00:00:00+00:00\",\"2017-08-25T00:00:00+00:00\",\"2017-08-26T00:00:00+00:00\",\"2017-08-27T00:00:00+00:00\",\"2017-08-28T00:00:00+00:00\",\"2017-08-29T00:00:00+00:00\",\"2017-08-30T00:00:00+00:00\",\"2017-08-31T00:00:00+00:00\",\"2017-09-01T00:00:00+00:00\",\"2017-09-02T00:00:00+00:00\",\"2017-09-03T00:00:00+00:00\",\"2017-09-04T00:00:00+00:00\",\"2017-09-05T00:00:00+00:00\",\"2017-09-06T00:00:00+00:00\",\"2017-09-07T00:00:00+00:00\",\"2017-09-08T00:00:00+00:00\",\"2017-09-09T00:00:00+00:00\",\"2017-09-10T00:00:00+00:00\",\"2017-09-11T00:00:00+00:00\",\"2017-09-12T00:00:00+00:00\"],\"y\":[null,null,null,null,null,null,null,null,null,null,null,null,null,null,null,null,null,null,null,null,null,null,null,null,null,null,null,null,null,null],\"type\":\"scatter\"}],                        {\"template\":{\"data\":{\"histogram2dcontour\":[{\"type\":\"histogram2dcontour\",\"colorbar\":{\"outlinewidth\":0,\"ticks\":\"\"},\"colorscale\":[[0.0,\"#0d0887\"],[0.1111111111111111,\"#46039f\"],[0.2222222222222222,\"#7201a8\"],[0.3333333333333333,\"#9c179e\"],[0.4444444444444444,\"#bd3786\"],[0.5555555555555556,\"#d8576b\"],[0.6666666666666666,\"#ed7953\"],[0.7777777777777778,\"#fb9f3a\"],[0.8888888888888888,\"#fdca26\"],[1.0,\"#f0f921\"]]}],\"choropleth\":[{\"type\":\"choropleth\",\"colorbar\":{\"outlinewidth\":0,\"ticks\":\"\"}}],\"histogram2d\":[{\"type\":\"histogram2d\",\"colorbar\":{\"outlinewidth\":0,\"ticks\":\"\"},\"colorscale\":[[0.0,\"#0d0887\"],[0.1111111111111111,\"#46039f\"],[0.2222222222222222,\"#7201a8\"],[0.3333333333333333,\"#9c179e\"],[0.4444444444444444,\"#bd3786\"],[0.5555555555555556,\"#d8576b\"],[0.6666666666666666,\"#ed7953\"],[0.7777777777777778,\"#fb9f3a\"],[0.8888888888888888,\"#fdca26\"],[1.0,\"#f0f921\"]]}],\"heatmap\":[{\"type\":\"heatmap\",\"colorbar\":{\"outlinewidth\":0,\"ticks\":\"\"},\"colorscale\":[[0.0,\"#0d0887\"],[0.1111111111111111,\"#46039f\"],[0.2222222222222222,\"#7201a8\"],[0.3333333333333333,\"#9c179e\"],[0.4444444444444444,\"#bd3786\"],[0.5555555555555556,\"#d8576b\"],[0.6666666666666666,\"#ed7953\"],[0.7777777777777778,\"#fb9f3a\"],[0.8888888888888888,\"#fdca26\"],[1.0,\"#f0f921\"]]}],\"heatmapgl\":[{\"type\":\"heatmapgl\",\"colorbar\":{\"outlinewidth\":0,\"ticks\":\"\"},\"colorscale\":[[0.0,\"#0d0887\"],[0.1111111111111111,\"#46039f\"],[0.2222222222222222,\"#7201a8\"],[0.3333333333333333,\"#9c179e\"],[0.4444444444444444,\"#bd3786\"],[0.5555555555555556,\"#d8576b\"],[0.6666666666666666,\"#ed7953\"],[0.7777777777777778,\"#fb9f3a\"],[0.8888888888888888,\"#fdca26\"],[1.0,\"#f0f921\"]]}],\"contourcarpet\":[{\"type\":\"contourcarpet\",\"colorbar\":{\"outlinewidth\":0,\"ticks\":\"\"}}],\"contour\":[{\"type\":\"contour\",\"colorbar\":{\"outlinewidth\":0,\"ticks\":\"\"},\"colorscale\":[[0.0,\"#0d0887\"],[0.1111111111111111,\"#46039f\"],[0.2222222222222222,\"#7201a8\"],[0.3333333333333333,\"#9c179e\"],[0.4444444444444444,\"#bd3786\"],[0.5555555555555556,\"#d8576b\"],[0.6666666666666666,\"#ed7953\"],[0.7777777777777778,\"#fb9f3a\"],[0.8888888888888888,\"#fdca26\"],[1.0,\"#f0f921\"]]}],\"surface\":[{\"type\":\"surface\",\"colorbar\":{\"outlinewidth\":0,\"ticks\":\"\"},\"colorscale\":[[0.0,\"#0d0887\"],[0.1111111111111111,\"#46039f\"],[0.2222222222222222,\"#7201a8\"],[0.3333333333333333,\"#9c179e\"],[0.4444444444444444,\"#bd3786\"],[0.5555555555555556,\"#d8576b\"],[0.6666666666666666,\"#ed7953\"],[0.7777777777777778,\"#fb9f3a\"],[0.8888888888888888,\"#fdca26\"],[1.0,\"#f0f921\"]]}],\"mesh3d\":[{\"type\":\"mesh3d\",\"colorbar\":{\"outlinewidth\":0,\"ticks\":\"\"}}],\"scatter\":[{\"fillpattern\":{\"fillmode\":\"overlay\",\"size\":10,\"solidity\":0.2},\"type\":\"scatter\"}],\"parcoords\":[{\"type\":\"parcoords\",\"line\":{\"colorbar\":{\"outlinewidth\":0,\"ticks\":\"\"}}}],\"scatterpolargl\":[{\"type\":\"scatterpolargl\",\"marker\":{\"colorbar\":{\"outlinewidth\":0,\"ticks\":\"\"}}}],\"bar\":[{\"error_x\":{\"color\":\"#2a3f5f\"},\"error_y\":{\"color\":\"#2a3f5f\"},\"marker\":{\"line\":{\"color\":\"#E5ECF6\",\"width\":0.5},\"pattern\":{\"fillmode\":\"overlay\",\"size\":10,\"solidity\":0.2}},\"type\":\"bar\"}],\"scattergeo\":[{\"type\":\"scattergeo\",\"marker\":{\"colorbar\":{\"outlinewidth\":0,\"ticks\":\"\"}}}],\"scatterpolar\":[{\"type\":\"scatterpolar\",\"marker\":{\"colorbar\":{\"outlinewidth\":0,\"ticks\":\"\"}}}],\"histogram\":[{\"marker\":{\"pattern\":{\"fillmode\":\"overlay\",\"size\":10,\"solidity\":0.2}},\"type\":\"histogram\"}],\"scattergl\":[{\"type\":\"scattergl\",\"marker\":{\"colorbar\":{\"outlinewidth\":0,\"ticks\":\"\"}}}],\"scatter3d\":[{\"type\":\"scatter3d\",\"line\":{\"colorbar\":{\"outlinewidth\":0,\"ticks\":\"\"}},\"marker\":{\"colorbar\":{\"outlinewidth\":0,\"ticks\":\"\"}}}],\"scattermapbox\":[{\"type\":\"scattermapbox\",\"marker\":{\"colorbar\":{\"outlinewidth\":0,\"ticks\":\"\"}}}],\"scatterternary\":[{\"type\":\"scatterternary\",\"marker\":{\"colorbar\":{\"outlinewidth\":0,\"ticks\":\"\"}}}],\"scattercarpet\":[{\"type\":\"scattercarpet\",\"marker\":{\"colorbar\":{\"outlinewidth\":0,\"ticks\":\"\"}}}],\"carpet\":[{\"aaxis\":{\"endlinecolor\":\"#2a3f5f\",\"gridcolor\":\"white\",\"linecolor\":\"white\",\"minorgridcolor\":\"white\",\"startlinecolor\":\"#2a3f5f\"},\"baxis\":{\"endlinecolor\":\"#2a3f5f\",\"gridcolor\":\"white\",\"linecolor\":\"white\",\"minorgridcolor\":\"white\",\"startlinecolor\":\"#2a3f5f\"},\"type\":\"carpet\"}],\"table\":[{\"cells\":{\"fill\":{\"color\":\"#EBF0F8\"},\"line\":{\"color\":\"white\"}},\"header\":{\"fill\":{\"color\":\"#C8D4E3\"},\"line\":{\"color\":\"white\"}},\"type\":\"table\"}],\"barpolar\":[{\"marker\":{\"line\":{\"color\":\"#E5ECF6\",\"width\":0.5},\"pattern\":{\"fillmode\":\"overlay\",\"size\":10,\"solidity\":0.2}},\"type\":\"barpolar\"}],\"pie\":[{\"automargin\":true,\"type\":\"pie\"}]},\"layout\":{\"autotypenumbers\":\"strict\",\"colorway\":[\"#636efa\",\"#EF553B\",\"#00cc96\",\"#ab63fa\",\"#FFA15A\",\"#19d3f3\",\"#FF6692\",\"#B6E880\",\"#FF97FF\",\"#FECB52\"],\"font\":{\"color\":\"#2a3f5f\"},\"hovermode\":\"closest\",\"hoverlabel\":{\"align\":\"left\"},\"paper_bgcolor\":\"white\",\"plot_bgcolor\":\"#E5ECF6\",\"polar\":{\"bgcolor\":\"#E5ECF6\",\"angularaxis\":{\"gridcolor\":\"white\",\"linecolor\":\"white\",\"ticks\":\"\"},\"radialaxis\":{\"gridcolor\":\"white\",\"linecolor\":\"white\",\"ticks\":\"\"}},\"ternary\":{\"bgcolor\":\"#E5ECF6\",\"aaxis\":{\"gridcolor\":\"white\",\"linecolor\":\"white\",\"ticks\":\"\"},\"baxis\":{\"gridcolor\":\"white\",\"linecolor\":\"white\",\"ticks\":\"\"},\"caxis\":{\"gridcolor\":\"white\",\"linecolor\":\"white\",\"ticks\":\"\"}},\"coloraxis\":{\"colorbar\":{\"outlinewidth\":0,\"ticks\":\"\"}},\"colorscale\":{\"sequential\":[[0.0,\"#0d0887\"],[0.1111111111111111,\"#46039f\"],[0.2222222222222222,\"#7201a8\"],[0.3333333333333333,\"#9c179e\"],[0.4444444444444444,\"#bd3786\"],[0.5555555555555556,\"#d8576b\"],[0.6666666666666666,\"#ed7953\"],[0.7777777777777778,\"#fb9f3a\"],[0.8888888888888888,\"#fdca26\"],[1.0,\"#f0f921\"]],\"sequentialminus\":[[0.0,\"#0d0887\"],[0.1111111111111111,\"#46039f\"],[0.2222222222222222,\"#7201a8\"],[0.3333333333333333,\"#9c179e\"],[0.4444444444444444,\"#bd3786\"],[0.5555555555555556,\"#d8576b\"],[0.6666666666666666,\"#ed7953\"],[0.7777777777777778,\"#fb9f3a\"],[0.8888888888888888,\"#fdca26\"],[1.0,\"#f0f921\"]],\"diverging\":[[0,\"#8e0152\"],[0.1,\"#c51b7d\"],[0.2,\"#de77ae\"],[0.3,\"#f1b6da\"],[0.4,\"#fde0ef\"],[0.5,\"#f7f7f7\"],[0.6,\"#e6f5d0\"],[0.7,\"#b8e186\"],[0.8,\"#7fbc41\"],[0.9,\"#4d9221\"],[1,\"#276419\"]]},\"xaxis\":{\"gridcolor\":\"white\",\"linecolor\":\"white\",\"ticks\":\"\",\"title\":{\"standoff\":15},\"zerolinecolor\":\"white\",\"automargin\":true,\"zerolinewidth\":2},\"yaxis\":{\"gridcolor\":\"white\",\"linecolor\":\"white\",\"ticks\":\"\",\"title\":{\"standoff\":15},\"zerolinecolor\":\"white\",\"automargin\":true,\"zerolinewidth\":2},\"scene\":{\"xaxis\":{\"backgroundcolor\":\"#E5ECF6\",\"gridcolor\":\"white\",\"linecolor\":\"white\",\"showbackground\":true,\"ticks\":\"\",\"zerolinecolor\":\"white\",\"gridwidth\":2},\"yaxis\":{\"backgroundcolor\":\"#E5ECF6\",\"gridcolor\":\"white\",\"linecolor\":\"white\",\"showbackground\":true,\"ticks\":\"\",\"zerolinecolor\":\"white\",\"gridwidth\":2},\"zaxis\":{\"backgroundcolor\":\"#E5ECF6\",\"gridcolor\":\"white\",\"linecolor\":\"white\",\"showbackground\":true,\"ticks\":\"\",\"zerolinecolor\":\"white\",\"gridwidth\":2}},\"shapedefaults\":{\"line\":{\"color\":\"#2a3f5f\"}},\"annotationdefaults\":{\"arrowcolor\":\"#2a3f5f\",\"arrowhead\":0,\"arrowwidth\":1},\"geo\":{\"bgcolor\":\"white\",\"landcolor\":\"#E5ECF6\",\"subunitcolor\":\"white\",\"showland\":true,\"showlakes\":true,\"lakecolor\":\"white\"},\"title\":{\"x\":0.05},\"mapbox\":{\"style\":\"light\"}}},\"title\":{\"text\":\"Forecast for Item Number: 1503844\"},\"xaxis\":{\"title\":{\"text\":\"Date\"}},\"yaxis\":{\"title\":{\"text\":\"Unit Sales\"}}},                        {\"responsive\": true}                    ).then(function(){\n",
       "                            \n",
       "var gd = document.getElementById('afd7bc5f-c618-42f2-a73a-38fffc2ea130');\n",
       "var x = new MutationObserver(function (mutations, observer) {{\n",
       "        var display = window.getComputedStyle(gd).display;\n",
       "        if (!display || display === 'none') {{\n",
       "            console.log([gd, 'removed!']);\n",
       "            Plotly.purge(gd);\n",
       "            observer.disconnect();\n",
       "        }}\n",
       "}});\n",
       "\n",
       "// Listen for the removal of the full notebook cells\n",
       "var notebookContainer = gd.closest('#notebook-container');\n",
       "if (notebookContainer) {{\n",
       "    x.observe(notebookContainer, {childList: true});\n",
       "}}\n",
       "\n",
       "// Listen for the clearing of the current output cell\n",
       "var outputEl = gd.closest('.output');\n",
       "if (outputEl) {{\n",
       "    x.observe(outputEl, {childList: true});\n",
       "}}\n",
       "\n",
       "                        })                };                });            </script>        </div>"
      ]
     },
     "metadata": {},
     "output_type": "display_data"
    }
   ],
   "source": [
    "import plotly.graph_objs as go\n",
    "import pandas as pd\n",
    "from statsmodels.tsa.statespace.sarimax import SARIMAX\n",
    "\n",
    "# Function to generate forecast for a given item_nbr\n",
    "def generate_forecast(item_nbr):\n",
    "    # Prepare data for SARIMAX\n",
    "    data = df_ML[df_ML['item_nbr'] == item_nbr][['date', 'unit_sales']].rename(columns={'date': 'ds', 'unit_sales': 'y'})\n",
    "    data['ds'] = pd.to_datetime(data['ds'])\n",
    "    data.set_index('ds', inplace=True)\n",
    "    \n",
    "    # Fit SARIMAX model\n",
    "    model = SARIMAX(data['y'], order=(1, 0, 1), seasonal_order=(0, 0, 0, 0))  # Adjusted parameters\n",
    "    results = model.fit(disp=False)\n",
    "    \n",
    "    # Make future predictions\n",
    "    future = pd.date_range(start=data.index[-1], periods=30)  # Adjust the number of future periods\n",
    "    forecast = results.get_forecast(steps=len(future))\n",
    "    forecast_index = pd.Index(future, name='ds')\n",
    "    forecast_df = pd.DataFrame(forecast.predicted_mean, index=forecast_index, columns=['yhat'])\n",
    "    \n",
    "    # Create an interactive plot\n",
    "    fig = go.Figure()\n",
    "    fig.add_trace(go.Scatter(x=data.index, y=data['y'], mode='lines', name='Actual'))\n",
    "    fig.add_trace(go.Scatter(x=forecast_df.index, y=forecast_df['yhat'], mode='lines', name='Forecast'))\n",
    "    fig.update_layout(title='Forecast for Item Number: {}'.format(item_nbr), xaxis_title='Date', yaxis_title='Unit Sales')\n",
    "    fig.show()\n",
    "\n",
    "# Call the function with a specific item_nbr\n",
    "item_to_forecast = 1503844\n",
    "generate_forecast(item_to_forecast)\n"
   ]
  }
 ],
 "metadata": {
  "kernelspec": {
   "display_name": "Python 3 (ipykernel)",
   "language": "python",
   "name": "python3"
  },
  "language_info": {
   "codemirror_mode": {
    "name": "ipython",
    "version": 3
   },
   "file_extension": ".py",
   "mimetype": "text/x-python",
   "name": "python",
   "nbconvert_exporter": "python",
   "pygments_lexer": "ipython3",
   "version": "3.11.5"
  }
 },
 "nbformat": 4,
 "nbformat_minor": 5
}
