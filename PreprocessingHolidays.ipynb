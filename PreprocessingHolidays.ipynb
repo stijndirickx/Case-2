{
 "cells": [
  {
   "cell_type": "code",
   "execution_count": 53,
   "id": "b3ef96b7-c194-481b-a71a-18c24781151e",
   "metadata": {
    "tags": []
   },
   "outputs": [],
   "source": [
    "import pandas as pd\n",
    "df = pd.read_csv('Pre-processed/holidays_events(india).csv', delimiter=';', encoding='ISO-8859-1')\n",
    "\n",
    "\n",
    "\n",
    "# adjust date format\n",
    "def explore(df, column):\n",
    "    print(df[column].nunique())\n",
    "    print(df[column].value_counts())"
   ]
  },
  {
   "cell_type": "code",
   "execution_count": 54,
   "id": "cc95aa36-d449-4fb8-ae25-998cbd91437f",
   "metadata": {
    "tags": []
   },
   "outputs": [
    {
     "name": "stdout",
     "output_type": "stream",
     "text": [
      "7\n",
      "type\n",
      "zondag       77\n",
      "donderdag    60\n",
      "vrijdag      60\n",
      "dinsdag      56\n",
      "woensdag     52\n",
      "zaterdag     49\n",
      "maandag      47\n",
      "Name: count, dtype: int64\n"
     ]
    }
   ],
   "source": [
    "explore(df, 'type')"
   ]
  },
  {
   "cell_type": "markdown",
   "id": "f441f6f3-c9b7-4ab3-b8d8-70eaa9e2a8a9",
   "metadata": {},
   "source": [
    "# Remove empty lines"
   ]
  },
  {
   "cell_type": "code",
   "execution_count": 55,
   "id": "66106f4e-fdcc-477f-923b-652deca565e9",
   "metadata": {
    "tags": []
   },
   "outputs": [
    {
     "name": "stdout",
     "output_type": "stream",
     "text": [
      "467 \n",
      " date           66\n",
      "type           66\n",
      "description    66\n",
      "transferred    66\n",
      "dtype: int64 \n",
      "\n",
      "401 \n",
      " date           0\n",
      "type           0\n",
      "description    0\n",
      "transferred    0\n",
      "dtype: int64\n"
     ]
    }
   ],
   "source": [
    "print(len(df), '\\n', df.isna().sum(), '\\n')\n",
    "df.dropna(inplace=True)  # Removed 66 empty lines\n",
    "print(len(df), '\\n', df.isna().sum())"
   ]
  },
  {
   "cell_type": "markdown",
   "id": "4d26d720-bd3b-4e1f-a3fe-f2d7b17a3a6f",
   "metadata": {},
   "source": [
    "# Add Year to date"
   ]
  },
  {
   "cell_type": "code",
   "execution_count": 57,
   "id": "4b9b2f1a-17e8-4a1d-bff7-77e2a1a59cea",
   "metadata": {
    "tags": []
   },
   "outputs": [],
   "source": [
    "df['date'] = df['date'].str.replace('/', ' ')\n",
    "start_year = 2011\n",
    "\n",
    "# Define a function to add the year and format the date\n",
    "for index, row in df.iterrows():\n",
    "    \n",
    "    if row['date'] == '1 jan':\n",
    "        if not ((row['description'] == \"New Year's Day\") & (start_year == 2017)):\n",
    "            start_year += 1\n",
    "    \n",
    "    # Extract day and month from the date\n",
    "    day_month = row['date'].split(' ')\n",
    "    month = day_month[1]\n",
    "    day = day_month[0]\n",
    "    \n",
    "    # Update the date with the year and reformat\n",
    "    df.at[index, 'date'] = f\"{start_year}-{month}-{day}\""
   ]
  },
  {
   "cell_type": "markdown",
   "id": "1190cde7-ab89-4f78-b22e-2c7be16010d5",
   "metadata": {},
   "source": [
    "# Remove duplicates"
   ]
  },
  {
   "cell_type": "code",
   "execution_count": 58,
   "id": "7619e5c6-c32c-4a41-8cf6-b7437c8715fb",
   "metadata": {
    "tags": []
   },
   "outputs": [],
   "source": [
    "df = df.drop(df[(df['description'] == 'Holi') & (df['transferred'] == 'Gazetted Holiday')].index)"
   ]
  },
  {
   "cell_type": "code",
   "execution_count": 59,
   "id": "3c13424b-5bfe-4a5b-8c1d-3150f69ff4e6",
   "metadata": {
    "tags": []
   },
   "outputs": [],
   "source": [
    "df.to_csv('Processed/holidays_events(india)_clean.csv', index=False)"
   ]
  },
  {
   "cell_type": "code",
   "execution_count": 60,
   "id": "eb37013b-6228-4359-afda-6da01fc56623",
   "metadata": {
    "tags": []
   },
   "outputs": [
    {
     "name": "stdout",
     "output_type": "stream",
     "text": [
      "            date       type                description         transferred\n",
      "1     2012-jan-5  donderdag  Guru Govind Singh Jayanti          Observance\n",
      "81   2013-jan-18    vrijdag  Guru Govind Singh Jayanti  Restricted Holiday\n",
      "157   2014-jan-7    dinsdag  Guru Govind Singh Jayanti  Restricted Holiday\n",
      "235   2015-jan-5    maandag  Guru Govind Singh Jayanti  Restricted Holiday\n",
      "314  2016-jan-16   zaterdag  Guru Govind Singh Jayanti  Restricted Holiday\n",
      "389   2017-jan-5  donderdag  Guru Govind Singh Jayanti  Restricted Holiday\n",
      "465  2017-dec-25    maandag  Guru Govind Singh Jayanti          Observance\n"
     ]
    }
   ],
   "source": [
    "# Used to check for holidays appearing more than\n",
    "# filtered_df = df[df['description'].isin(description_counts[description_counts > 6].index)]\n"
   ]
  },
  {
   "cell_type": "code",
   "execution_count": null,
   "id": "0b5b3dd7-262b-47d5-8906-8880e1068949",
   "metadata": {},
   "outputs": [],
   "source": [
    "# https://www.timeanddate.com/holidays/india/2012\n",
    "\n",
    "# 8 Mar\tThursday\tHoli\tRestricted Holiday"
   ]
  }
 ],
 "metadata": {
  "kernelspec": {
   "display_name": "Python 3 (ipykernel)",
   "language": "python",
   "name": "python3"
  },
  "language_info": {
   "codemirror_mode": {
    "name": "ipython",
    "version": 3
   },
   "file_extension": ".py",
   "mimetype": "text/x-python",
   "name": "python",
   "nbconvert_exporter": "python",
   "pygments_lexer": "ipython3",
   "version": "3.11.5"
  }
 },
 "nbformat": 4,
 "nbformat_minor": 5
}
