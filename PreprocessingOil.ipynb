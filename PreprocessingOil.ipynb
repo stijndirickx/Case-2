{
 "cells": [
  {
   "cell_type": "code",
   "execution_count": 36,
   "id": "42b270c2-ce93-44d2-b6ee-a96d24a6627f",
   "metadata": {
    "tags": []
   },
   "outputs": [],
   "source": [
    "import pandas as pd\n",
    "from dateutil import parser"
   ]
  },
  {
   "cell_type": "code",
   "execution_count": 22,
   "id": "3cf6de6d-914f-4743-92c2-76e7ef1002fb",
   "metadata": {
    "tags": []
   },
   "outputs": [],
   "source": [
    "# Quick Configurations\n",
    "\n",
    "OIL_MONTHLY_CNAME_0 = \"date\" # Date of the month\n",
    "OIL_MONTHLY_CNAME_1 = \"unit\" # how many units are bought\n",
    "OIL_MONTHLY_CNAME_2 = \"price\" # total price of all units bought\n",
    "OIL_MONTHLY_CNAME_3 = \"change\" # Percentage, looks to be an evolution\n",
    "\n",
    "OIL_DAILY_CNAME_0 = \"date\" # Daily date\n",
    "OIL_DAILY_CNAME_1 = \"dcoilwtico\" # See onenote - price of oil"
   ]
  },
  {
   "cell_type": "markdown",
   "id": "5f017cf4-dd70-44ca-ba95-e66430cfcbdd",
   "metadata": {},
   "source": [
    "# Step 1: Preprocess file to be read in dataframe\n",
    "- Replace , to ; in oil(india.csv)\n",
    "- Split into two files (monthly and daily)"
   ]
  },
  {
   "cell_type": "code",
   "execution_count": 23,
   "id": "f5b740fd-5ad2-47e6-abc4-a6a55764c65f",
   "metadata": {
    "tags": []
   },
   "outputs": [],
   "source": [
    "# Read the oil(india) file\n",
    "with open('Pre-processed/oil(india).csv', 'r') as file:\n",
    "    data = file.readlines()\n",
    "    data_monthly = [f\"{OIL_MONTHLY_CNAME_0};{OIL_MONTHLY_CNAME_1};{OIL_MONTHLY_CNAME_2};{OIL_MONTHLY_CNAME_3}\\n\"] # Header monthly\n",
    "    data_daily = [f\"{OIL_DAILY_CNAME_0};{OIL_DAILY_CNAME_1}\\n\"] # Header daily\n",
    "    \n",
    "    for idx, row in enumerate(data):\n",
    "        modified_row = row.replace(',',';')\n",
    "        \n",
    "        if(1 <= idx & idx <= 60):\n",
    "            data_monthly.append(modified_row)\n",
    "        if(idx > 60):\n",
    "            # remove last 2 semicolons\n",
    "            modified_row = \";\".join(modified_row.split(\";\")[:-2])\n",
    "            data_daily.append(modified_row + \"\\n\")\n",
    "\n",
    "# Write the modified lines back to the file\n",
    "with open('Processed/oil(india)_monthly.csv', 'w') as file:\n",
    "    file.writelines(data_monthly)\n",
    "with open('Processed/oil(india)_daily.csv', 'w') as file:\n",
    "    file.writelines(data_daily)"
   ]
  },
  {
   "cell_type": "markdown",
   "id": "256152f8-4419-45b5-b512-c4f5a5fc7ca8",
   "metadata": {},
   "source": [
    "# Step 2: pre process monthly price\n",
    "\n",
    "- Date formats\n",
    "- Added price_per_unit"
   ]
  },
  {
   "cell_type": "code",
   "execution_count": 42,
   "id": "9ca948f8-f335-41d5-8a20-b76d7074b7b1",
   "metadata": {
    "tags": []
   },
   "outputs": [],
   "source": [
    "df = pd.read_csv('Processed/oil(india)_monthly.csv', delimiter=';', encoding='ISO-8859-1')\n",
    "\n",
    "# apr/13 --> apr 2013\n",
    "df['date'] = df['date'].str.replace('/', ' 20') \n",
    "\n",
    "# apr 2013 --> 2013-04\n",
    "df.iloc[:, 0] = df.iloc[:, 0].apply(lambda x: parser.parse(x).strftime('%Y-%m') if isinstance(x, str) else x) \n",
    "\n",
    "# add column price per unit\n",
    "df['price_per_unit'] = round(df['price'] / df['unit'],2)\n",
    "\n",
    "# Write the modified DataFrame back to the file\n",
    "df.to_csv('Processed/oil(india)_monthly_clean.csv', index=False)"
   ]
  },
  {
   "cell_type": "markdown",
   "id": "403fa18e-ba97-460a-ad2e-ab33842bf63a",
   "metadata": {
    "tags": []
   },
   "source": [
    "# Step 3: pre process daily price\n",
    "\n",
    "- remove NaN values\n",
    "- check for outliers in price"
   ]
  },
  {
   "cell_type": "code",
   "execution_count": 54,
   "id": "a57f5625-4ef6-47cd-863a-3d7c3c793092",
   "metadata": {
    "tags": []
   },
   "outputs": [
    {
     "name": "stdout",
     "output_type": "stream",
     "text": [
      "Outliers:\n",
      "Empty DataFrame\n",
      "Columns: [date, dcoilwtico]\n",
      "Index: []\n"
     ]
    }
   ],
   "source": [
    "df = pd.read_csv('Processed/oil(india)_daily.csv', delimiter=';', encoding='ISO-8859-1')\n",
    "df.dropna(inplace=True)\n",
    "\n",
    "# Calculate Z-score for the 'dcoilwtico' column\n",
    "z_scores = (df['dcoilwtico'] - df['dcoilwtico'].mean()) / df['dcoilwtico'].std()\n",
    "\n",
    "threshold = 2\n",
    "\n",
    "# Print outliers\n",
    "outliers = df[abs(z_scores) > threshold]\n",
    "print(\"Outliers:\")\n",
    "print(outliers)\n",
    "\n",
    "df.to_csv('Processed/oil(india)_daily_clean.csv', index=False)"
   ]
  },
  {
   "cell_type": "code",
   "execution_count": null,
   "id": "a9d86aa5-292a-4cf9-b909-1eef9e9d0167",
   "metadata": {
    "tags": []
   },
   "outputs": [],
   "source": []
  },
  {
   "cell_type": "code",
   "execution_count": null,
   "id": "6e07a6b9-31ba-45fd-97c9-fc5dcc35f2f6",
   "metadata": {},
   "outputs": [],
   "source": []
  }
 ],
 "metadata": {
  "kernelspec": {
   "display_name": "Python 3 (ipykernel)",
   "language": "python",
   "name": "python3"
  },
  "language_info": {
   "codemirror_mode": {
    "name": "ipython",
    "version": 3
   },
   "file_extension": ".py",
   "mimetype": "text/x-python",
   "name": "python",
   "nbconvert_exporter": "python",
   "pygments_lexer": "ipython3",
   "version": "3.11.5"
  }
 },
 "nbformat": 4,
 "nbformat_minor": 5
}
