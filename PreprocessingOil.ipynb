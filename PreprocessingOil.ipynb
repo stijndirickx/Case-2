{
 "cells": [
  {
   "cell_type": "code",
   "execution_count": 36,
   "id": "42b270c2-ce93-44d2-b6ee-a96d24a6627f",
   "metadata": {
    "tags": []
   },
   "outputs": [],
   "source": [
    "import pandas as pd\n",
    "from dateutil import parser\n",
    "import matplotlib.pyplot as plt"
   ]
  },
  {
   "cell_type": "code",
   "execution_count": 22,
   "id": "3cf6de6d-914f-4743-92c2-76e7ef1002fb",
   "metadata": {
    "tags": []
   },
   "outputs": [],
   "source": [
    "# Quick Configurations\n",
    "\n",
    "OIL_MONTHLY_CNAME_0 = \"date\" # Date of the month\n",
    "OIL_MONTHLY_CNAME_1 = \"unit\" # how many units are bought\n",
    "OIL_MONTHLY_CNAME_2 = \"price\" # total price of all units bought\n",
    "OIL_MONTHLY_CNAME_3 = \"change\" # Percentage, looks to be an evolution\n",
    "\n",
    "OIL_DAILY_CNAME_0 = \"date\" # Daily date\n",
    "OIL_DAILY_CNAME_1 = \"dcoilwtico\" # See onenote - price of oil"
   ]
  },
  {
   "cell_type": "markdown",
   "id": "5f017cf4-dd70-44ca-ba95-e66430cfcbdd",
   "metadata": {},
   "source": [
    "# Step 1: Preprocess file to be read in dataframe\n",
    "- Replace , to ; in oil(india.csv)\n",
    "- Split into two files (monthly and daily)"
   ]
  },
  {
   "cell_type": "code",
   "execution_count": 23,
   "id": "f5b740fd-5ad2-47e6-abc4-a6a55764c65f",
   "metadata": {
    "tags": []
   },
   "outputs": [],
   "source": [
    "# Read the oil(india) file\n",
    "with open('Pre-processed/oil(india).csv', 'r') as file:\n",
    "    data = file.readlines()\n",
    "    data_monthly = [f\"{OIL_MONTHLY_CNAME_0};{OIL_MONTHLY_CNAME_1};{OIL_MONTHLY_CNAME_2};{OIL_MONTHLY_CNAME_3}\\n\"] # Header monthly\n",
    "    data_daily = [f\"{OIL_DAILY_CNAME_0};{OIL_DAILY_CNAME_1}\\n\"] # Header daily\n",
    "    \n",
    "    for idx, row in enumerate(data):\n",
    "        modified_row = row.replace(',',';')\n",
    "        \n",
    "        if(1 <= idx & idx <= 60):\n",
    "            data_monthly.append(modified_row)\n",
    "        if(idx > 60):\n",
    "            # remove last 2 semicolons\n",
    "            modified_row = \";\".join(modified_row.split(\";\")[:-2])\n",
    "            data_daily.append(modified_row + \"\\n\")\n",
    "\n",
    "# Write the modified lines back to the file\n",
    "with open('Processed/oil(india)_monthly.csv', 'w') as file:\n",
    "    file.writelines(data_monthly)\n",
    "with open('Processed/oil(india)_daily.csv', 'w') as file:\n",
    "    file.writelines(data_daily)"
   ]
  },
  {
   "cell_type": "markdown",
   "id": "256152f8-4419-45b5-b512-c4f5a5fc7ca8",
   "metadata": {},
   "source": [
    "# Step 2: Continue pre processing monthly price\n",
    "\n",
    "- Date formats"
   ]
  },
  {
   "cell_type": "code",
   "execution_count": null,
   "id": "35916ee0-abdc-4787-b55f-d1839740e641",
   "metadata": {
    "tags": []
   },
   "outputs": [],
   "source": []
  },
  {
   "cell_type": "code",
   "execution_count": 38,
   "id": "9ca948f8-f335-41d5-8a20-b76d7074b7b1",
   "metadata": {
    "tags": []
   },
   "outputs": [
    {
     "ename": "TypeError",
     "evalue": "unsupported format string passed to Series.__format__",
     "output_type": "error",
     "traceback": [
      "\u001b[1;31m---------------------------------------------------------------------------\u001b[0m",
      "\u001b[1;31mTypeError\u001b[0m                                 Traceback (most recent call last)",
      "Cell \u001b[1;32mIn[38], line 5\u001b[0m\n\u001b[0;32m      3\u001b[0m df[\u001b[38;5;124m'\u001b[39m\u001b[38;5;124mdate\u001b[39m\u001b[38;5;124m'\u001b[39m] \u001b[38;5;241m=\u001b[39m df[\u001b[38;5;124m'\u001b[39m\u001b[38;5;124mdate\u001b[39m\u001b[38;5;124m'\u001b[39m]\u001b[38;5;241m.\u001b[39mstr\u001b[38;5;241m.\u001b[39mreplace(\u001b[38;5;124m'\u001b[39m\u001b[38;5;124m/\u001b[39m\u001b[38;5;124m'\u001b[39m, \u001b[38;5;124m'\u001b[39m\u001b[38;5;124m 20\u001b[39m\u001b[38;5;124m'\u001b[39m)\n\u001b[0;32m      4\u001b[0m df\u001b[38;5;241m.\u001b[39miloc[:, \u001b[38;5;241m0\u001b[39m] \u001b[38;5;241m=\u001b[39m df\u001b[38;5;241m.\u001b[39miloc[:, \u001b[38;5;241m0\u001b[39m]\u001b[38;5;241m.\u001b[39mapply(\u001b[38;5;28;01mlambda\u001b[39;00m x: parser\u001b[38;5;241m.\u001b[39mparse(x)\u001b[38;5;241m.\u001b[39mstrftime(\u001b[38;5;124m'\u001b[39m\u001b[38;5;124m%\u001b[39m\u001b[38;5;124mY-\u001b[39m\u001b[38;5;124m%\u001b[39m\u001b[38;5;124mm\u001b[39m\u001b[38;5;124m'\u001b[39m) \u001b[38;5;28;01mif\u001b[39;00m \u001b[38;5;28misinstance\u001b[39m(x, \u001b[38;5;28mstr\u001b[39m) \u001b[38;5;28;01melse\u001b[39;00m x)\n\u001b[1;32m----> 5\u001b[0m df[\u001b[38;5;124m'\u001b[39m\u001b[38;5;124mprice_per_unit\u001b[39m\u001b[38;5;124m'\u001b[39m] \u001b[38;5;241m=\u001b[39m \u001b[38;5;124m\"\u001b[39m\u001b[38;5;132;01m{:.2f}\u001b[39;00m\u001b[38;5;124m\"\u001b[39m\u001b[38;5;241m.\u001b[39mformat(df[\u001b[38;5;124m'\u001b[39m\u001b[38;5;124mprice\u001b[39m\u001b[38;5;124m'\u001b[39m] \u001b[38;5;241m/\u001b[39m df[\u001b[38;5;124m'\u001b[39m\u001b[38;5;124munit\u001b[39m\u001b[38;5;124m'\u001b[39m])\n\u001b[0;32m      7\u001b[0m \u001b[38;5;28mprint\u001b[39m(df)\n\u001b[0;32m      8\u001b[0m \u001b[38;5;66;03m# Write the modified DataFrame back to the file\u001b[39;00m\n",
      "\u001b[1;31mTypeError\u001b[0m: unsupported format string passed to Series.__format__"
     ]
    }
   ],
   "source": [
    "df = pd.read_csv('Processed/oil(india)_monthly.csv', delimiter=';', encoding='ISO-8859-1')\n",
    "\n",
    "df['date'] = df['date'].str.replace('/', ' 20')\n",
    "df.iloc[:, 0] = df.iloc[:, 0].apply(lambda x: parser.parse(x).strftime('%Y-%m') if isinstance(x, str) else x)\n",
    "df['price_per_unit'] = \"{:.2f}\".format(df['price'] / df['unit'])\n",
    "\n",
    "print(df)\n",
    "# Write the modified DataFrame back to the file\n",
    "df.to_csv('Processed/oil(india)_monthly_clean.csv', index=False)"
   ]
  },
  {
   "cell_type": "code",
   "execution_count": 4,
   "id": "177c9f60-44ca-4d99-8785-556a9d2342bd",
   "metadata": {
    "tags": []
   },
   "outputs": [
    {
     "data": {
      "text/plain": [
       "'\\n2014-04-01;99.69;;\\n2014-04-02;99.6;;\\n2014-04-03;100.29;;\\n2014-04-04;101.16;;\\n2014-04-07;100.43;;\\n2014-04-08;102.57;;\\n2014-04-09;103.55;;\\n2014-04-10;103.37;;\\n2014-04-11;103.68;;\\n2014-04-14;104.05;;\\n2014-04-15;103.7;;\\n2014-04-16;103.71;;\\n2014-04-17;104.33;;\\n2014-04-18;;;\\n2014-04-21;104.35;;\\n2014-04-22;101.69;;\\n2014-04-23;101.47;;\\n2014-04-24;102.2;;\\n2014-04-25;100.85;;\\n2014-04-28;101.13;;\\n2014-04-29;101.56;;\\n2014-04-30;100.07;;\\n'"
      ]
     },
     "execution_count": 4,
     "metadata": {},
     "output_type": "execute_result"
    }
   ],
   "source": [
    "# apr/13;5;375.04;-3.60%\n",
    "\n",
    "'''\n",
    "2014-04-01;99.69;;\n",
    "2014-04-02;99.6;;\n",
    "2014-04-03;100.29;;\n",
    "2014-04-04;101.16;;\n",
    "2014-04-07;100.43;;\n",
    "2014-04-08;102.57;;\n",
    "2014-04-09;103.55;;\n",
    "2014-04-10;103.37;;\n",
    "2014-04-11;103.68;;\n",
    "2014-04-14;104.05;;\n",
    "2014-04-15;103.7;;\n",
    "2014-04-16;103.71;;\n",
    "2014-04-17;104.33;;\n",
    "2014-04-18;;;\n",
    "2014-04-21;104.35;;\n",
    "2014-04-22;101.69;;\n",
    "2014-04-23;101.47;;\n",
    "2014-04-24;102.2;;\n",
    "2014-04-25;100.85;;\n",
    "2014-04-28;101.13;;\n",
    "2014-04-29;101.56;;\n",
    "2014-04-30;100.07;;\n",
    "'''\n"
   ]
  },
  {
   "cell_type": "code",
   "execution_count": 20,
   "id": "a57f5625-4ef6-47cd-863a-3d7c3c793092",
   "metadata": {
    "tags": []
   },
   "outputs": [
    {
     "name": "stdout",
     "output_type": "stream",
     "text": [
      "Structure:\n",
      "date           object\n",
      "dcoilwtico    float64\n",
      "Unnamed: 2    float64\n",
      "Unnamed: 3     object\n",
      "dtype: object\n",
      "\n",
      "First 10 rows:\n",
      "          date  dcoilwtico  Unnamed: 2 Unnamed: 3\n",
      "0       jan/13        5.00      708.32      3.29%\n",
      "1       feb/13        5.00      784.94      1.34%\n",
      "2     Mar 2013        5.00      575.84     -3.61%\n",
      "3       apr/13        5.00      375.04     -3.60%\n",
      "4     May 2013        5.00      468.66      1.74%\n",
      "..         ...         ...         ...        ...\n",
      "95  2013-05-14       93.96         NaN        NaN\n",
      "96  2013-05-15       93.95         NaN        NaN\n",
      "97  2013-05-16       94.85         NaN        NaN\n",
      "98  2013-05-17       95.72         NaN        NaN\n",
      "99  2013-05-20       96.29         NaN        NaN\n",
      "\n",
      "[100 rows x 4 columns]\n"
     ]
    }
   ],
   "source": []
  },
  {
   "cell_type": "code",
   "execution_count": 11,
   "id": "a9d86aa5-292a-4cf9-b909-1eef9e9d0167",
   "metadata": {
    "tags": []
   },
   "outputs": [
    {
     "name": "stdout",
     "output_type": "stream",
     "text": [
      "Structure:\n",
      "date,dcoilwtico    object\n",
      "Unnamed: 1         object\n",
      "Unnamed: 2         object\n",
      "dtype: object\n",
      "\n",
      "First 10 rows:\n",
      "  date,dcoilwtico Unnamed: 1 Unnamed: 2\n",
      "0          jan/13   5,708.32      3.29%\n",
      "1          feb/13   5,784.94      1.34%\n",
      "2        Mar 2013   5,575.84     -3.61%\n",
      "3          apr/13   5,375.04     -3.60%\n",
      "4        May 2013   5,468.66      1.74%\n",
      "5          jun/13   5,817.69      6.38%\n",
      "6          jul/13   6,292.38      8.16%\n",
      "7          aug/13   6,836.67      8.65%\n",
      "8          sep/13   6,926.83      1.32%\n",
      "9        Oct 2013   6,497.77     -6.19%\n"
     ]
    }
   ],
   "source": []
  },
  {
   "cell_type": "code",
   "execution_count": null,
   "id": "6e07a6b9-31ba-45fd-97c9-fc5dcc35f2f6",
   "metadata": {},
   "outputs": [],
   "source": []
  }
 ],
 "metadata": {
  "kernelspec": {
   "display_name": "Python 3 (ipykernel)",
   "language": "python",
   "name": "python3"
  },
  "language_info": {
   "codemirror_mode": {
    "name": "ipython",
    "version": 3
   },
   "file_extension": ".py",
   "mimetype": "text/x-python",
   "name": "python",
   "nbconvert_exporter": "python",
   "pygments_lexer": "ipython3",
   "version": "3.11.5"
  }
 },
 "nbformat": 4,
 "nbformat_minor": 5
}
